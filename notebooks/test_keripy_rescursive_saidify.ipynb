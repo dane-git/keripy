{
 "cells": [
  {
   "cell_type": "code",
   "execution_count": 1,
   "id": "c87cac20-513f-4da3-aa0c-6a4134a0981b",
   "metadata": {},
   "outputs": [],
   "source": [
    "import sys\n",
    "import os\n",
    "import pprint\n",
    "pp = pprint.PrettyPrinter(indent=2, sort_dicts=False)\n",
    "## Take 2 of compact acdc saidify\n",
    "## compact acdc algo\n",
    "# 1. find all paths with said label\n",
    "# 2. sort paths by deepest.\n",
    "# 3. for each path calculate the said of sorted paths left\n",
    "# 4. compactify: replace the label value with the said value\n",
    "#   4a. update the said field in the non compact acdc with the most compact said calculation \n",
    "# 5. replace non compact root said with the most compact said ( root ) calculation."
   ]
  },
  {
   "cell_type": "code",
   "execution_count": 2,
   "id": "270a1438-ee0f-405c-a6a6-8a4f6e6e5b81",
   "metadata": {},
   "outputs": [
    {
     "data": {
      "text/plain": [
       "'1.2.0-rc1'"
      ]
     },
     "execution_count": 2,
     "metadata": {},
     "output_type": "execute_result"
    }
   ],
   "source": [
    "## IMPORT KERIPY \n",
    "import warnings\n",
    "warnings.filterwarnings(\"ignore\")\n",
    "\n",
    "base_path = os.getcwd()\n",
    "relative_path = os.path.abspath(os.path.join(base_path, '../'))\n",
    "sys.path.append(relative_path)\n",
    "\n",
    "from src.keri.core import coring\n",
    "from src import keri\n",
    "keri.__version__"
   ]
  },
  {
   "cell_type": "code",
   "execution_count": 3,
   "id": "a313e03a-a4fe-447a-b903-97747d023aa7",
   "metadata": {},
   "outputs": [
    {
     "name": "stdout",
     "output_type": "stream",
     "text": [
      "my_forks/keripy/src/keri/core/coring.py\n"
     ]
    }
   ],
   "source": [
    "print('/'.join(keri.core.coring.__file__.split('/')[6:]))"
   ]
  },
  {
   "cell_type": "code",
   "execution_count": 4,
   "id": "6c761533-66e9-40e9-8a02-9618a6f2dac0",
   "metadata": {},
   "outputs": [
    {
     "name": "stdout",
     "output_type": "stream",
     "text": [
      "  compact-acdc-algo\u001b[m\n",
      "* \u001b[32mcompact-acdc-algo-test\u001b[m\n",
      "  main\u001b[m\n"
     ]
    }
   ],
   "source": [
    "!git branch"
   ]
  },
  {
   "cell_type": "code",
   "execution_count": 5,
   "id": "4d0720f7-0d83-48d8-a02c-c951c1433459",
   "metadata": {},
   "outputs": [],
   "source": [
    "# EXAMPLE ACDC with deep nested said fields:\n",
    "example = {'v': 'ACDC10JSON0008f0_',\n",
    " 'd': 'EIwXA0QoL70U1bn7PlQ2L9gRtL1mpotXZB2iNGirQ_ef',\n",
    " 'i': 'EKXPX7hWw8KK5Y_Mxs2TOuCrGdN45vPIZ78NofRlVBws',\n",
    " 'ri': 'EuqwB_iOD86eK0ynAhA6AYwWvPeBhvmbcmOD-9cCmiVU',\n",
    " 's': 'ELG17Q0M-uLZcjidzVbF7KBkoUhZa1ie3Az3Q_8aYi8s',\n",
    "        # this one is set to be wrong as a check (last char: B) See cell 15\n",
    " 'a': {'d': 'EMEODAhE7mHjg8zH94_qq55QmDcQawT2r5N_aP98Kn-B', # EMEODAhE7mHjg8zH94_qq55QmDcQawT2r5N_aP98Kn-b >> correct said\n",
    "  'dt': '2022-08-25T14:07:30.536257+00:00',\n",
    "  'i': 'EY4ldIBDZP4Tpnm3RX320BO0yz8Uz2nUSN-C409GnCJM',\n",
    "  'AID': 'Esf8b_AngI1d0KbOFjPGIfpVani0HTagWeaYTLs14PlE',\n",
    "  'LEI': '6383001AJTYIGC8Y1X37',\n",
    "  'personLegalName': 'John Smith',\n",
    "  'engagementContextRole': 'Chief Executive Officer',\n",
    "  'D': {\n",
    "          # this one is set to be wrong as a check (last char: W) see cell 13\n",
    "        'd': 'EElt4abYofAP-G_bSGZGWulIh-VygRh5-YVaj-oXMceW', #EElt4abYofAP-G_bSGZGWulIh-VygRh5-YVaj-oXMcew >> correct said\n",
    "        'test': 'something',\n",
    "        'le': {\n",
    "           'n': 'ESyLzoJC4L_1abXOEN4f6uNZCmhqyEHg2geBHFhJ8KDs',\n",
    "            's': 'ENPXp1vQzRF6JwIuS-mp2U8Uf1MoADoP_GqQ62VsDZWY'\n",
    "            }\n",
    "          }\n",
    "      },\n",
    " 'e': {'d': 'EPEeGpDroK50eKwPBfLuSgkvEKiEAzDN6mkskS9pjdYy', #EPEeGpDroK50eKwPBfLuSgkvEKiEAzDN6mkskS9pjdYy\n",
    "  'le': {'n': 'ESyLzoJC4L_1abXOEN4f6uNZCmhqyEHg2geBHFhJ8KDs',\n",
    "   's': 'ENPXp1vQzRF6JwIuS-mp2U8Uf1MoADoP_GqQ62VsDZWY'}},\n",
    " 'r': {'d': 'EKHMDCNFlMBaMdDOq5Pf_vGMxkTqrDMrTx_28cZZJCcW', #EKHMDCNFlMBaMdDOq5Pf_vGMxkTqrDMrTx_28cZZJCcW\n",
    "  'usageDisclaimer': {'l': 'Usage of a valid, unexpired, and non-revoked vLEI Credential, as defined in the associated Ecosystem Governance Framework, does not assert that the Legal Entity is trustworthy, honest, reputable in its business dealings, safe to do business with, or compliant with any laws or that an implied or expressly intended purpose will be fulfilled.'},\n",
    "  'issuanceDisclaimer': {'l': 'All information in a valid, unexpired, and non-revoked vLEI Credential, as defined in the associated Ecosystem Governance Framework, is accurate as of the date the validation process was complete. The vLEI Credential has been issued to the legal entity or person named in the vLEI Credential as the subject; and the qualified vLEI Issuer exercised reasonable care to perform the validation process set forth in the vLEI Ecosystem Governance Framework.'},\n",
    "  'privacyDisclaimer': {'l': 'Privacy Considerations are applicable to QVI ECR AUTH vLEI Credentials.  It is the sole responsibility of QVIs as Issuees of QVI ECR AUTH vLEI Credentials to present these Credentials in a privacy-preserving manner using the mechanisms provided in the Issuance and Presentation Exchange (IPEX) protocol specification and the Authentic Chained Data Container (ACDC) specification.  https://github.com/WebOfTrust/IETF-IPEX and https://github.com/trustoverip/tswg-acdc-specification.'}}}"
   ]
  },
  {
   "cell_type": "code",
   "execution_count": 6,
   "id": "192753c9-8131-4eaf-ab26-f1b713d2ea9a",
   "metadata": {},
   "outputs": [
    {
     "data": {
      "text/plain": [
       "dict_keys(['paths', 'sads', 'saiders', 'compact', 'non_compact'])"
      ]
     },
     "execution_count": 6,
     "metadata": {},
     "output_type": "execute_result"
    }
   ],
   "source": [
    "results = coring.Saider._saidify(example, label = 'd')\n",
    "results.keys()"
   ]
  },
  {
   "cell_type": "code",
   "execution_count": 7,
   "id": "59869221-a45b-4c6a-847e-b398c0a11d0a",
   "metadata": {},
   "outputs": [
    {
     "data": {
      "text/plain": [
       "{'v': 'ACDC10JSON00017f_',\n",
       " 'd': 'EE72uvM0mQqPTu1aYzg-ULffEtZzesbnSUka_XXbgtdg',\n",
       " 'i': 'EKXPX7hWw8KK5Y_Mxs2TOuCrGdN45vPIZ78NofRlVBws',\n",
       " 'ri': 'EuqwB_iOD86eK0ynAhA6AYwWvPeBhvmbcmOD-9cCmiVU',\n",
       " 's': 'ELG17Q0M-uLZcjidzVbF7KBkoUhZa1ie3Az3Q_8aYi8s',\n",
       " 'a': 'EMEODAhE7mHjg8zH94_qq55QmDcQawT2r5N_aP98Kn-b',\n",
       " 'e': 'EPEeGpDroK50eKwPBfLuSgkvEKiEAzDN6mkskS9pjdYy',\n",
       " 'r': 'EKHMDCNFlMBaMdDOq5Pf_vGMxkTqrDMrTx_28cZZJCcW'}"
      ]
     },
     "execution_count": 7,
     "metadata": {},
     "output_type": "execute_result"
    }
   ],
   "source": [
    "results['compact']"
   ]
  },
  {
   "cell_type": "code",
   "execution_count": 8,
   "id": "1f6ad659-5314-4cc6-a7ef-1fce39e777a9",
   "metadata": {},
   "outputs": [
    {
     "name": "stdout",
     "output_type": "stream",
     "text": [
      "a.D.d\n",
      "EElt4abYofAP-G_bSGZGWulIh-VygRh5-YVaj-oXMcew\n",
      "a.d\n",
      "EMEODAhE7mHjg8zH94_qq55QmDcQawT2r5N_aP98Kn-b\n",
      "e.d\n",
      "EPEeGpDroK50eKwPBfLuSgkvEKiEAzDN6mkskS9pjdYy\n",
      "r.d\n",
      "EKHMDCNFlMBaMdDOq5Pf_vGMxkTqrDMrTx_28cZZJCcW\n",
      "d\n",
      "EE72uvM0mQqPTu1aYzg-ULffEtZzesbnSUka_XXbgtdg\n"
     ]
    }
   ],
   "source": [
    "# results['saiders']\n",
    "saiders = results['saiders']\n",
    "for s in saiders:\n",
    "    print(s)\n",
    "    print(saiders[s].qb64)"
   ]
  },
  {
   "cell_type": "code",
   "execution_count": 9,
   "id": "ae288b51-afdd-486e-b8e2-6e9ca5d0cbbc",
   "metadata": {},
   "outputs": [
    {
     "data": {
      "text/plain": [
       "{'paths': [['a', 'D', 'd'], ['a', 'd'], ['e', 'd'], ['r', 'd'], ['d']],\n",
       " 'sads': {'a.D': {'d': 'EElt4abYofAP-G_bSGZGWulIh-VygRh5-YVaj-oXMcew',\n",
       "   'test': 'something',\n",
       "   'le': {'n': 'ESyLzoJC4L_1abXOEN4f6uNZCmhqyEHg2geBHFhJ8KDs',\n",
       "    's': 'ENPXp1vQzRF6JwIuS-mp2U8Uf1MoADoP_GqQ62VsDZWY'}},\n",
       "  'a': {'d': 'EMEODAhE7mHjg8zH94_qq55QmDcQawT2r5N_aP98Kn-b',\n",
       "   'dt': '2022-08-25T14:07:30.536257+00:00',\n",
       "   'i': 'EY4ldIBDZP4Tpnm3RX320BO0yz8Uz2nUSN-C409GnCJM',\n",
       "   'AID': 'Esf8b_AngI1d0KbOFjPGIfpVani0HTagWeaYTLs14PlE',\n",
       "   'LEI': '6383001AJTYIGC8Y1X37',\n",
       "   'personLegalName': 'John Smith',\n",
       "   'engagementContextRole': 'Chief Executive Officer',\n",
       "   'D': 'EElt4abYofAP-G_bSGZGWulIh-VygRh5-YVaj-oXMcew'},\n",
       "  'e': {'d': 'EPEeGpDroK50eKwPBfLuSgkvEKiEAzDN6mkskS9pjdYy',\n",
       "   'le': {'n': 'ESyLzoJC4L_1abXOEN4f6uNZCmhqyEHg2geBHFhJ8KDs',\n",
       "    's': 'ENPXp1vQzRF6JwIuS-mp2U8Uf1MoADoP_GqQ62VsDZWY'}},\n",
       "  'r': {'d': 'EKHMDCNFlMBaMdDOq5Pf_vGMxkTqrDMrTx_28cZZJCcW',\n",
       "   'usageDisclaimer': {'l': 'Usage of a valid, unexpired, and non-revoked vLEI Credential, as defined in the associated Ecosystem Governance Framework, does not assert that the Legal Entity is trustworthy, honest, reputable in its business dealings, safe to do business with, or compliant with any laws or that an implied or expressly intended purpose will be fulfilled.'},\n",
       "   'issuanceDisclaimer': {'l': 'All information in a valid, unexpired, and non-revoked vLEI Credential, as defined in the associated Ecosystem Governance Framework, is accurate as of the date the validation process was complete. The vLEI Credential has been issued to the legal entity or person named in the vLEI Credential as the subject; and the qualified vLEI Issuer exercised reasonable care to perform the validation process set forth in the vLEI Ecosystem Governance Framework.'},\n",
       "   'privacyDisclaimer': {'l': 'Privacy Considerations are applicable to QVI ECR AUTH vLEI Credentials.  It is the sole responsibility of QVIs as Issuees of QVI ECR AUTH vLEI Credentials to present these Credentials in a privacy-preserving manner using the mechanisms provided in the Issuance and Presentation Exchange (IPEX) protocol specification and the Authentic Chained Data Container (ACDC) specification.  https://github.com/WebOfTrust/IETF-IPEX and https://github.com/trustoverip/tswg-acdc-specification.'}},\n",
       "  '': {'v': 'ACDC10JSON00017f_',\n",
       "   'd': 'EE72uvM0mQqPTu1aYzg-ULffEtZzesbnSUka_XXbgtdg',\n",
       "   'i': 'EKXPX7hWw8KK5Y_Mxs2TOuCrGdN45vPIZ78NofRlVBws',\n",
       "   'ri': 'EuqwB_iOD86eK0ynAhA6AYwWvPeBhvmbcmOD-9cCmiVU',\n",
       "   's': 'ELG17Q0M-uLZcjidzVbF7KBkoUhZa1ie3Az3Q_8aYi8s',\n",
       "   'a': 'EMEODAhE7mHjg8zH94_qq55QmDcQawT2r5N_aP98Kn-b',\n",
       "   'e': 'EPEeGpDroK50eKwPBfLuSgkvEKiEAzDN6mkskS9pjdYy',\n",
       "   'r': 'EKHMDCNFlMBaMdDOq5Pf_vGMxkTqrDMrTx_28cZZJCcW'}},\n",
       " 'saiders': {'a.D.d': <src.keri.core.coring.Saider at 0x7b9b1f958350>,\n",
       "  'a.d': <src.keri.core.coring.Saider at 0x7b9b1f958380>,\n",
       "  'e.d': <src.keri.core.coring.Saider at 0x7b9b1f958470>,\n",
       "  'r.d': <src.keri.core.coring.Saider at 0x7b9b1f958500>,\n",
       "  'd': <src.keri.core.coring.Saider at 0x7b9b1f958650>},\n",
       " 'compact': {'v': 'ACDC10JSON00017f_',\n",
       "  'd': 'EE72uvM0mQqPTu1aYzg-ULffEtZzesbnSUka_XXbgtdg',\n",
       "  'i': 'EKXPX7hWw8KK5Y_Mxs2TOuCrGdN45vPIZ78NofRlVBws',\n",
       "  'ri': 'EuqwB_iOD86eK0ynAhA6AYwWvPeBhvmbcmOD-9cCmiVU',\n",
       "  's': 'ELG17Q0M-uLZcjidzVbF7KBkoUhZa1ie3Az3Q_8aYi8s',\n",
       "  'a': 'EMEODAhE7mHjg8zH94_qq55QmDcQawT2r5N_aP98Kn-b',\n",
       "  'e': 'EPEeGpDroK50eKwPBfLuSgkvEKiEAzDN6mkskS9pjdYy',\n",
       "  'r': 'EKHMDCNFlMBaMdDOq5Pf_vGMxkTqrDMrTx_28cZZJCcW'},\n",
       " 'non_compact': {'v': 'ACDC10JSON0008f0_',\n",
       "  'd': 'EE72uvM0mQqPTu1aYzg-ULffEtZzesbnSUka_XXbgtdg',\n",
       "  'i': 'EKXPX7hWw8KK5Y_Mxs2TOuCrGdN45vPIZ78NofRlVBws',\n",
       "  'ri': 'EuqwB_iOD86eK0ynAhA6AYwWvPeBhvmbcmOD-9cCmiVU',\n",
       "  's': 'ELG17Q0M-uLZcjidzVbF7KBkoUhZa1ie3Az3Q_8aYi8s',\n",
       "  'a': {'d': 'EMEODAhE7mHjg8zH94_qq55QmDcQawT2r5N_aP98Kn-b',\n",
       "   'dt': '2022-08-25T14:07:30.536257+00:00',\n",
       "   'i': 'EY4ldIBDZP4Tpnm3RX320BO0yz8Uz2nUSN-C409GnCJM',\n",
       "   'AID': 'Esf8b_AngI1d0KbOFjPGIfpVani0HTagWeaYTLs14PlE',\n",
       "   'LEI': '6383001AJTYIGC8Y1X37',\n",
       "   'personLegalName': 'John Smith',\n",
       "   'engagementContextRole': 'Chief Executive Officer',\n",
       "   'D': 'EElt4abYofAP-G_bSGZGWulIh-VygRh5-YVaj-oXMcew'},\n",
       "  'e': {'d': 'EPEeGpDroK50eKwPBfLuSgkvEKiEAzDN6mkskS9pjdYy',\n",
       "   'le': {'n': 'ESyLzoJC4L_1abXOEN4f6uNZCmhqyEHg2geBHFhJ8KDs',\n",
       "    's': 'ENPXp1vQzRF6JwIuS-mp2U8Uf1MoADoP_GqQ62VsDZWY'}},\n",
       "  'r': {'d': 'EKHMDCNFlMBaMdDOq5Pf_vGMxkTqrDMrTx_28cZZJCcW',\n",
       "   'usageDisclaimer': {'l': 'Usage of a valid, unexpired, and non-revoked vLEI Credential, as defined in the associated Ecosystem Governance Framework, does not assert that the Legal Entity is trustworthy, honest, reputable in its business dealings, safe to do business with, or compliant with any laws or that an implied or expressly intended purpose will be fulfilled.'},\n",
       "   'issuanceDisclaimer': {'l': 'All information in a valid, unexpired, and non-revoked vLEI Credential, as defined in the associated Ecosystem Governance Framework, is accurate as of the date the validation process was complete. The vLEI Credential has been issued to the legal entity or person named in the vLEI Credential as the subject; and the qualified vLEI Issuer exercised reasonable care to perform the validation process set forth in the vLEI Ecosystem Governance Framework.'},\n",
       "   'privacyDisclaimer': {'l': 'Privacy Considerations are applicable to QVI ECR AUTH vLEI Credentials.  It is the sole responsibility of QVIs as Issuees of QVI ECR AUTH vLEI Credentials to present these Credentials in a privacy-preserving manner using the mechanisms provided in the Issuance and Presentation Exchange (IPEX) protocol specification and the Authentic Chained Data Container (ACDC) specification.  https://github.com/WebOfTrust/IETF-IPEX and https://github.com/trustoverip/tswg-acdc-specification.'}}}}"
      ]
     },
     "execution_count": 9,
     "metadata": {},
     "output_type": "execute_result"
    }
   ],
   "source": [
    "results"
   ]
  },
  {
   "cell_type": "code",
   "execution_count": 10,
   "id": "27736789-c3f5-4a21-a511-daa9d1896b78",
   "metadata": {},
   "outputs": [
    {
     "data": {
      "text/plain": [
       "'EE72uvM0mQqPTu1aYzg-ULffEtZzesbnSUka_XXbgtdg'"
      ]
     },
     "execution_count": 10,
     "metadata": {},
     "output_type": "execute_result"
    }
   ],
   "source": [
    "f = coring.Saider.saidify(results['compact'])\n",
    "f[0].qb64"
   ]
  },
  {
   "cell_type": "code",
   "execution_count": 11,
   "id": "8a823a53-5d82-465f-b6f0-8e2d7a4a5d28",
   "metadata": {},
   "outputs": [
    {
     "data": {
      "text/plain": [
       "{'v': 'ACDC10JSON0008f0_',\n",
       " 'd': 'EIwXA0QoL70U1bn7PlQ2L9gRtL1mpotXZB2iNGirQ_ef',\n",
       " 'i': 'EKXPX7hWw8KK5Y_Mxs2TOuCrGdN45vPIZ78NofRlVBws',\n",
       " 'ri': 'EuqwB_iOD86eK0ynAhA6AYwWvPeBhvmbcmOD-9cCmiVU',\n",
       " 's': 'ELG17Q0M-uLZcjidzVbF7KBkoUhZa1ie3Az3Q_8aYi8s',\n",
       " 'a': 'EMEODAhE7mHjg8zH94_qq55QmDcQawT2r5N_aP98Kn-b',\n",
       " 'e': 'EPEeGpDroK50eKwPBfLuSgkvEKiEAzDN6mkskS9pjdYy',\n",
       " 'r': 'EKHMDCNFlMBaMdDOq5Pf_vGMxkTqrDMrTx_28cZZJCcW'}"
      ]
     },
     "execution_count": 11,
     "metadata": {},
     "output_type": "execute_result"
    }
   ],
   "source": [
    "## Simple _compactify just collapses on label given.  Does no said calculations.\n",
    "ex_compacted = coring.Saider._compactify(example)\n",
    "ex_compacted"
   ]
  },
  {
   "cell_type": "code",
   "execution_count": 12,
   "id": "c1667542-0825-4482-a260-40c18a9bbbfe",
   "metadata": {},
   "outputs": [],
   "source": [
    "D_proof_dict = {\n",
    "          # this one is set to be wrong as a check (last char: W)\n",
    "        'd': 'EElt4abYofAP-G_bSGZGWulIh-VygRh5-YVaj-oXMceW', #EElt4abYofAP-G_bSGZGWulIh-VygRh5-YVaj-oXMcew >> correct said\n",
    "        'test': 'something',\n",
    "        'le': {\n",
    "           'n': 'ESyLzoJC4L_1abXOEN4f6uNZCmhqyEHg2geBHFhJ8KDs',\n",
    "            's': 'ENPXp1vQzRF6JwIuS-mp2U8Uf1MoADoP_GqQ62VsDZWY'\n",
    "            }\n",
    "          }\n",
    "      "
   ]
  },
  {
   "cell_type": "code",
   "execution_count": 13,
   "id": "8a969f52-810d-423f-903c-6157c651b8aa",
   "metadata": {},
   "outputs": [
    {
     "data": {
      "text/plain": [
       "'EElt4abYofAP-G_bSGZGWulIh-VygRh5-YVaj-oXMcew'"
      ]
     },
     "execution_count": 13,
     "metadata": {},
     "output_type": "execute_result"
    }
   ],
   "source": [
    "d_proof = coring.Saider.saidify(D_proof_dict)\n",
    "d_proof[0].qb64"
   ]
  },
  {
   "cell_type": "code",
   "execution_count": 14,
   "id": "2381a29a-71fe-49dc-8b84-01a97e8373ba",
   "metadata": {},
   "outputs": [],
   "source": [
    "a_proof_dict = {'d': 'EMEODAhE7mHjg8zH94_qq55QmDcQawT2r5N_aP98Kn-B', # EMEODAhE7mHjg8zH94_qq55QmDcQawT2r5N_aP98Kn-b >> correct said\n",
    "  'dt': '2022-08-25T14:07:30.536257+00:00',\n",
    "  'i': 'EY4ldIBDZP4Tpnm3RX320BO0yz8Uz2nUSN-C409GnCJM',\n",
    "  'AID': 'Esf8b_AngI1d0KbOFjPGIfpVani0HTagWeaYTLs14PlE',\n",
    "  'LEI': '6383001AJTYIGC8Y1X37',\n",
    "  'personLegalName': 'John Smith',\n",
    "  'engagementContextRole': 'Chief Executive Officer',\n",
    "  'D': 'EElt4abYofAP-G_bSGZGWulIh-VygRh5-YVaj-oXMcew'}"
   ]
  },
  {
   "cell_type": "code",
   "execution_count": 15,
   "id": "3572752f-d8d7-41f3-bab2-d5181a863159",
   "metadata": {},
   "outputs": [
    {
     "data": {
      "text/plain": [
       "'EMEODAhE7mHjg8zH94_qq55QmDcQawT2r5N_aP98Kn-b'"
      ]
     },
     "execution_count": 15,
     "metadata": {},
     "output_type": "execute_result"
    }
   ],
   "source": [
    "a_proof = coring.Saider.saidify(a_proof_dict)\n",
    "a_proof[0].qb64"
   ]
  }
 ],
 "metadata": {
  "kernelspec": {
   "display_name": "Python 3 (ipykernel)",
   "language": "python",
   "name": "python3"
  },
  "language_info": {
   "codemirror_mode": {
    "name": "ipython",
    "version": 3
   },
   "file_extension": ".py",
   "mimetype": "text/x-python",
   "name": "python",
   "nbconvert_exporter": "python",
   "pygments_lexer": "ipython3",
   "version": "3.12.7"
  }
 },
 "nbformat": 4,
 "nbformat_minor": 5
}
