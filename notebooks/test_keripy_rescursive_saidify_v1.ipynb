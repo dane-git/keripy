{
 "cells": [
  {
   "cell_type": "code",
   "execution_count": 1,
   "id": "c87cac20-513f-4da3-aa0c-6a4134a0981b",
   "metadata": {},
   "outputs": [],
   "source": [
    "import sys\n",
    "import os\n",
    "import pprint\n",
    "pp = pprint.PrettyPrinter(indent=2, sort_dicts=False)\n",
    "## Take 2 of compact acdc saidify\n",
    "## compact acdc algo\n",
    "# 1. find all paths with said label\n",
    "# 2. sort paths by deepest.\n",
    "# 3. for each path calculate the said of sorted paths left\n",
    "# 4. compactify: replace the label value with the said value\n",
    "#   4a. update the said field in the non compact acdc with the most compact said calculation \n",
    "# 5. replace non compact root said with the most compact said ( root ) calculation."
   ]
  },
  {
   "cell_type": "code",
   "execution_count": 2,
   "id": "270a1438-ee0f-405c-a6a6-8a4f6e6e5b81",
   "metadata": {},
   "outputs": [
    {
     "data": {
      "text/plain": [
       "'1.2.0-rc1'"
      ]
     },
     "execution_count": 2,
     "metadata": {},
     "output_type": "execute_result"
    }
   ],
   "source": [
    "## IMPORT KERIPY \n",
    "import warnings\n",
    "warnings.filterwarnings(\"ignore\")\n",
    "\n",
    "base_path = os.getcwd()\n",
    "relative_path = os.path.abspath(os.path.join(base_path, '../'))\n",
    "sys.path.append(relative_path)\n",
    "\n",
    "from src.keri.core import coring\n",
    "from src import keri\n",
    "keri.__version__"
   ]
  },
  {
   "cell_type": "code",
   "execution_count": 3,
   "id": "a313e03a-a4fe-447a-b903-97747d023aa7",
   "metadata": {},
   "outputs": [
    {
     "name": "stdout",
     "output_type": "stream",
     "text": [
      "my_forks/keripy/src/keri/core/coring.py\n"
     ]
    }
   ],
   "source": [
    "print('/'.join(keri.core.coring.__file__.split('/')[6:]))"
   ]
  },
  {
   "cell_type": "code",
   "execution_count": 4,
   "id": "6c761533-66e9-40e9-8a02-9618a6f2dac0",
   "metadata": {},
   "outputs": [
    {
     "name": "stdout",
     "output_type": "stream",
     "text": [
      "  compact-acdc-algo\u001b[m\n",
      "* \u001b[32mcompact-acdc-algo-test\u001b[m\n",
      "  main\u001b[m\n"
     ]
    }
   ],
   "source": [
    "!git branch"
   ]
  },
  {
   "cell_type": "code",
   "execution_count": 5,
   "id": "4d0720f7-0d83-48d8-a02c-c951c1433459",
   "metadata": {},
   "outputs": [],
   "source": [
    "# EXAMPLE ACDC with deep nested said fields:\n",
    "example = {'v': 'ACDC10JSON0008f0_',\n",
    "           \n",
    " 'd': 'EIwXA0QoL70U1bn7PlQ2L9gRtL1mpotXZB2iNGirQ_ef',\n",
    " 'i': 'EKXPX7hWw8KK5Y_Mxs2TOuCrGdN45vPIZ78NofRlVBws',\n",
    " 'ri': 'EuqwB_iOD86eK0ynAhA6AYwWvPeBhvmbcmOD-9cCmiVU',\n",
    " 's': 'ELG17Q0M-uLZcjidzVbF7KBkoUhZa1ie3Az3Q_8aYi8s',\n",
    "        # this one is set to be wrong as a check (last char: B) See cell 15\n",
    " 'a': {'d': 'EMEODAhE7mHjg8zH94_qq55QmDcQawT2r5N_aP98Kn-B', # EMEODAhE7mHjg8zH94_qq55QmDcQawT2r5N_aP98Kn-b >> correct said\n",
    "  'dt': '2022-08-25T14:07:30.536257+00:00',\n",
    "  'i': 'EY4ldIBDZP4Tpnm3RX320BO0yz8Uz2nUSN-C409GnCJM',\n",
    "  'AID': 'Esf8b_AngI1d0KbOFjPGIfpVani0HTagWeaYTLs14PlE',\n",
    "  'LEI': '6383001AJTYIGC8Y1X37',\n",
    "  'personLegalName': 'John Smith',\n",
    "  'engagementContextRole': 'Chief Executive Officer',\n",
    "  'D': {\n",
    "          # this one is set to be wrong as a check (last char: W) see cell 13\n",
    "        'd': 'EElt4abYofAP-G_bSGZGWulIh-VygRh5-YVaj-oXMceW', #EElt4abYofAP-G_bSGZGWulIh-VygRh5-YVaj-oXMcew >> correct said\n",
    "        'test': 'something',\n",
    "        'le': {\n",
    "           'n': 'ESyLzoJC4L_1abXOEN4f6uNZCmhqyEHg2geBHFhJ8KDs',\n",
    "            's': 'ENPXp1vQzRF6JwIuS-mp2U8Uf1MoADoP_GqQ62VsDZWY'\n",
    "            }\n",
    "          }\n",
    "      },\n",
    " 'e': {'d': 'EPEeGpDroK50eKwPBfLuSgkvEKiEAzDN6mkskS9pjdYy', #EPEeGpDroK50eKwPBfLuSgkvEKiEAzDN6mkskS9pjdYy\n",
    "  'le': {'n': 'ESyLzoJC4L_1abXOEN4f6uNZCmhqyEHg2geBHFhJ8KDs',\n",
    "   's': 'ENPXp1vQzRF6JwIuS-mp2U8Uf1MoADoP_GqQ62VsDZWY'}},\n",
    " 'r': {'d': 'EKHMDCNFlMBaMdDOq5Pf_vGMxkTqrDMrTx_28cZZJCcW', #EKHMDCNFlMBaMdDOq5Pf_vGMxkTqrDMrTx_28cZZJCcW\n",
    "  'usageDisclaimer': {'l': 'Usage of a valid, unexpired, and non-revoked vLEI Credential, as defined in the associated Ecosystem Governance Framework, does not assert that the Legal Entity is trustworthy, honest, reputable in its business dealings, safe to do business with, or compliant with any laws or that an implied or expressly intended purpose will be fulfilled.'},\n",
    "  'issuanceDisclaimer': {'l': 'All information in a valid, unexpired, and non-revoked vLEI Credential, as defined in the associated Ecosystem Governance Framework, is accurate as of the date the validation process was complete. The vLEI Credential has been issued to the legal entity or person named in the vLEI Credential as the subject; and the qualified vLEI Issuer exercised reasonable care to perform the validation process set forth in the vLEI Ecosystem Governance Framework.'},\n",
    "  'privacyDisclaimer': {'l': 'Privacy Considerations are applicable to QVI ECR AUTH vLEI Credentials.  It is the sole responsibility of QVIs as Issuees of QVI ECR AUTH vLEI Credentials to present these Credentials in a privacy-preserving manner using the mechanisms provided in the Issuance and Presentation Exchange (IPEX) protocol specification and the Authentic Chained Data Container (ACDC) specification.  https://github.com/WebOfTrust/IETF-IPEX and https://github.com/trustoverip/tswg-acdc-specification.'}}}"
   ]
  },
  {
   "cell_type": "code",
   "execution_count": 6,
   "id": "192753c9-8131-4eaf-ab26-f1b713d2ea9a",
   "metadata": {},
   "outputs": [
    {
     "name": "stdout",
     "output_type": "stream",
     "text": [
      "{'d': 'EElt4abYofAP-G_bSGZGWulIh-VygRh5-YVaj-oXMceW', 'test': 'something', 'le': {'n': 'ESyLzoJC4L_1abXOEN4f6uNZCmhqyEHg2geBHFhJ8KDs', 's': 'ENPXp1vQzRF6JwIuS-mp2U8Uf1MoADoP_GqQ62VsDZWY'}}\n",
      "{'d': 'EElt4abYofAP-G_bSGZGWulIh-VygRh5-YVaj-oXMceW', 'test': 'something', 'le': {'n': 'ESyLzoJC4L_1abXOEN4f6uNZCmhqyEHg2geBHFhJ8KDs', 's': 'ENPXp1vQzRF6JwIuS-mp2U8Uf1MoADoP_GqQ62VsDZWY'}}\n"
     ]
    }
   ],
   "source": [
    "print(example['a']['D'])\n",
    "results = coring.Saider._saidify(example, label = 'd')\n",
    "print(example['a']['D'])\n",
    "# results.keys()"
   ]
  },
  {
   "cell_type": "code",
   "execution_count": 7,
   "id": "dd752559-a00b-40c0-8cec-e3d34e79f193",
   "metadata": {},
   "outputs": [
    {
     "name": "stdout",
     "output_type": "stream",
     "text": [
      "{'d': 'EElt4abYofAP-G_bSGZGWulIh-VygRh5-YVaj-oXMceW', 'test': 'something', 'le': {'n': 'ESyLzoJC4L_1abXOEN4f6uNZCmhqyEHg2geBHFhJ8KDs', 's': 'ENPXp1vQzRF6JwIuS-mp2U8Uf1MoADoP_GqQ62VsDZWY'}}\n"
     ]
    }
   ],
   "source": [
    "print(example['a']['D'])"
   ]
  },
  {
   "cell_type": "code",
   "execution_count": 8,
   "id": "59869221-a45b-4c6a-847e-b398c0a11d0a",
   "metadata": {},
   "outputs": [
    {
     "data": {
      "text/plain": [
       "{'v': 'ACDC10JSON00017f_',\n",
       " 'd': 'EE72uvM0mQqPTu1aYzg-ULffEtZzesbnSUka_XXbgtdg',\n",
       " 'i': 'EKXPX7hWw8KK5Y_Mxs2TOuCrGdN45vPIZ78NofRlVBws',\n",
       " 'ri': 'EuqwB_iOD86eK0ynAhA6AYwWvPeBhvmbcmOD-9cCmiVU',\n",
       " 's': 'ELG17Q0M-uLZcjidzVbF7KBkoUhZa1ie3Az3Q_8aYi8s',\n",
       " 'a': 'EMEODAhE7mHjg8zH94_qq55QmDcQawT2r5N_aP98Kn-b',\n",
       " 'e': 'EPEeGpDroK50eKwPBfLuSgkvEKiEAzDN6mkskS9pjdYy',\n",
       " 'r': 'EKHMDCNFlMBaMdDOq5Pf_vGMxkTqrDMrTx_28cZZJCcW'}"
      ]
     },
     "execution_count": 8,
     "metadata": {},
     "output_type": "execute_result"
    }
   ],
   "source": [
    "results['compact']"
   ]
  },
  {
   "cell_type": "code",
   "execution_count": 9,
   "id": "6b14e26f-1328-422d-9dd4-81dfef988d9b",
   "metadata": {},
   "outputs": [
    {
     "data": {
      "text/plain": [
       "{'v': 'ACDC10JSON0008f0_',\n",
       " 'd': 'EE72uvM0mQqPTu1aYzg-ULffEtZzesbnSUka_XXbgtdg',\n",
       " 'i': 'EKXPX7hWw8KK5Y_Mxs2TOuCrGdN45vPIZ78NofRlVBws',\n",
       " 'ri': 'EuqwB_iOD86eK0ynAhA6AYwWvPeBhvmbcmOD-9cCmiVU',\n",
       " 's': 'ELG17Q0M-uLZcjidzVbF7KBkoUhZa1ie3Az3Q_8aYi8s',\n",
       " 'a': {'d': 'EMEODAhE7mHjg8zH94_qq55QmDcQawT2r5N_aP98Kn-b',\n",
       "  'dt': '2022-08-25T14:07:30.536257+00:00',\n",
       "  'i': 'EY4ldIBDZP4Tpnm3RX320BO0yz8Uz2nUSN-C409GnCJM',\n",
       "  'AID': 'Esf8b_AngI1d0KbOFjPGIfpVani0HTagWeaYTLs14PlE',\n",
       "  'LEI': '6383001AJTYIGC8Y1X37',\n",
       "  'personLegalName': 'John Smith',\n",
       "  'engagementContextRole': 'Chief Executive Officer',\n",
       "  'D': {'d': 'EElt4abYofAP-G_bSGZGWulIh-VygRh5-YVaj-oXMcew',\n",
       "   'test': 'something',\n",
       "   'le': {'n': 'ESyLzoJC4L_1abXOEN4f6uNZCmhqyEHg2geBHFhJ8KDs',\n",
       "    's': 'ENPXp1vQzRF6JwIuS-mp2U8Uf1MoADoP_GqQ62VsDZWY'}}},\n",
       " 'e': {'d': 'EPEeGpDroK50eKwPBfLuSgkvEKiEAzDN6mkskS9pjdYy',\n",
       "  'le': {'n': 'ESyLzoJC4L_1abXOEN4f6uNZCmhqyEHg2geBHFhJ8KDs',\n",
       "   's': 'ENPXp1vQzRF6JwIuS-mp2U8Uf1MoADoP_GqQ62VsDZWY'}},\n",
       " 'r': {'d': 'EKHMDCNFlMBaMdDOq5Pf_vGMxkTqrDMrTx_28cZZJCcW',\n",
       "  'usageDisclaimer': {'l': 'Usage of a valid, unexpired, and non-revoked vLEI Credential, as defined in the associated Ecosystem Governance Framework, does not assert that the Legal Entity is trustworthy, honest, reputable in its business dealings, safe to do business with, or compliant with any laws or that an implied or expressly intended purpose will be fulfilled.'},\n",
       "  'issuanceDisclaimer': {'l': 'All information in a valid, unexpired, and non-revoked vLEI Credential, as defined in the associated Ecosystem Governance Framework, is accurate as of the date the validation process was complete. The vLEI Credential has been issued to the legal entity or person named in the vLEI Credential as the subject; and the qualified vLEI Issuer exercised reasonable care to perform the validation process set forth in the vLEI Ecosystem Governance Framework.'},\n",
       "  'privacyDisclaimer': {'l': 'Privacy Considerations are applicable to QVI ECR AUTH vLEI Credentials.  It is the sole responsibility of QVIs as Issuees of QVI ECR AUTH vLEI Credentials to present these Credentials in a privacy-preserving manner using the mechanisms provided in the Issuance and Presentation Exchange (IPEX) protocol specification and the Authentic Chained Data Container (ACDC) specification.  https://github.com/WebOfTrust/IETF-IPEX and https://github.com/trustoverip/tswg-acdc-specification.'}}}"
      ]
     },
     "execution_count": 9,
     "metadata": {},
     "output_type": "execute_result"
    }
   ],
   "source": [
    "results['non_compact']"
   ]
  },
  {
   "cell_type": "code",
   "execution_count": 10,
   "id": "1f6ad659-5314-4cc6-a7ef-1fce39e777a9",
   "metadata": {},
   "outputs": [
    {
     "name": "stdout",
     "output_type": "stream",
     "text": [
      "a.D.d\n",
      "EElt4abYofAP-G_bSGZGWulIh-VygRh5-YVaj-oXMcew\n",
      "a.d\n",
      "EMEODAhE7mHjg8zH94_qq55QmDcQawT2r5N_aP98Kn-b\n",
      "e.d\n",
      "EPEeGpDroK50eKwPBfLuSgkvEKiEAzDN6mkskS9pjdYy\n",
      "r.d\n",
      "EKHMDCNFlMBaMdDOq5Pf_vGMxkTqrDMrTx_28cZZJCcW\n",
      "d\n",
      "EE72uvM0mQqPTu1aYzg-ULffEtZzesbnSUka_XXbgtdg\n"
     ]
    }
   ],
   "source": [
    "# results['saiders']\n",
    "saiders = results['saiders']\n",
    "for s in saiders:\n",
    "    print(s)\n",
    "    print(saiders[s].qb64)"
   ]
  },
  {
   "cell_type": "code",
   "execution_count": null,
   "id": "dcae6edb-40ef-4ecf-9395-477758a4c65a",
   "metadata": {},
   "outputs": [],
   "source": []
  },
  {
   "cell_type": "code",
   "execution_count": 11,
   "id": "18ccadd4-561d-4931-938d-08f2219f6824",
   "metadata": {},
   "outputs": [
    {
     "data": {
      "text/plain": [
       "dict_keys(['paths', 'sads', 'saiders', 'compact', 'non_compact'])"
      ]
     },
     "execution_count": 11,
     "metadata": {},
     "output_type": "execute_result"
    }
   ],
   "source": [
    "results.keys()"
   ]
  },
  {
   "cell_type": "code",
   "execution_count": 12,
   "id": "d6065f7f-f6e8-489a-9415-f342c2f9d422",
   "metadata": {},
   "outputs": [],
   "source": [
    "# results['orig']"
   ]
  },
  {
   "cell_type": "code",
   "execution_count": 13,
   "id": "ae288b51-afdd-486e-b8e2-6e9ca5d0cbbc",
   "metadata": {},
   "outputs": [
    {
     "data": {
      "text/plain": [
       "{'paths': [['a', 'D', 'd'], ['a', 'd'], ['e', 'd'], ['r', 'd'], ['d']],\n",
       " 'sads': {'a.D': {'d': 'EElt4abYofAP-G_bSGZGWulIh-VygRh5-YVaj-oXMcew',\n",
       "   'test': 'something',\n",
       "   'le': {'n': 'ESyLzoJC4L_1abXOEN4f6uNZCmhqyEHg2geBHFhJ8KDs',\n",
       "    's': 'ENPXp1vQzRF6JwIuS-mp2U8Uf1MoADoP_GqQ62VsDZWY'}},\n",
       "  'a': {'d': 'EMEODAhE7mHjg8zH94_qq55QmDcQawT2r5N_aP98Kn-b',\n",
       "   'dt': '2022-08-25T14:07:30.536257+00:00',\n",
       "   'i': 'EY4ldIBDZP4Tpnm3RX320BO0yz8Uz2nUSN-C409GnCJM',\n",
       "   'AID': 'Esf8b_AngI1d0KbOFjPGIfpVani0HTagWeaYTLs14PlE',\n",
       "   'LEI': '6383001AJTYIGC8Y1X37',\n",
       "   'personLegalName': 'John Smith',\n",
       "   'engagementContextRole': 'Chief Executive Officer',\n",
       "   'D': 'EElt4abYofAP-G_bSGZGWulIh-VygRh5-YVaj-oXMcew'},\n",
       "  'e': {'d': 'EPEeGpDroK50eKwPBfLuSgkvEKiEAzDN6mkskS9pjdYy',\n",
       "   'le': {'n': 'ESyLzoJC4L_1abXOEN4f6uNZCmhqyEHg2geBHFhJ8KDs',\n",
       "    's': 'ENPXp1vQzRF6JwIuS-mp2U8Uf1MoADoP_GqQ62VsDZWY'}},\n",
       "  'r': {'d': 'EKHMDCNFlMBaMdDOq5Pf_vGMxkTqrDMrTx_28cZZJCcW',\n",
       "   'usageDisclaimer': {'l': 'Usage of a valid, unexpired, and non-revoked vLEI Credential, as defined in the associated Ecosystem Governance Framework, does not assert that the Legal Entity is trustworthy, honest, reputable in its business dealings, safe to do business with, or compliant with any laws or that an implied or expressly intended purpose will be fulfilled.'},\n",
       "   'issuanceDisclaimer': {'l': 'All information in a valid, unexpired, and non-revoked vLEI Credential, as defined in the associated Ecosystem Governance Framework, is accurate as of the date the validation process was complete. The vLEI Credential has been issued to the legal entity or person named in the vLEI Credential as the subject; and the qualified vLEI Issuer exercised reasonable care to perform the validation process set forth in the vLEI Ecosystem Governance Framework.'},\n",
       "   'privacyDisclaimer': {'l': 'Privacy Considerations are applicable to QVI ECR AUTH vLEI Credentials.  It is the sole responsibility of QVIs as Issuees of QVI ECR AUTH vLEI Credentials to present these Credentials in a privacy-preserving manner using the mechanisms provided in the Issuance and Presentation Exchange (IPEX) protocol specification and the Authentic Chained Data Container (ACDC) specification.  https://github.com/WebOfTrust/IETF-IPEX and https://github.com/trustoverip/tswg-acdc-specification.'}},\n",
       "  '': {'v': 'ACDC10JSON00017f_',\n",
       "   'd': 'EE72uvM0mQqPTu1aYzg-ULffEtZzesbnSUka_XXbgtdg',\n",
       "   'i': 'EKXPX7hWw8KK5Y_Mxs2TOuCrGdN45vPIZ78NofRlVBws',\n",
       "   'ri': 'EuqwB_iOD86eK0ynAhA6AYwWvPeBhvmbcmOD-9cCmiVU',\n",
       "   's': 'ELG17Q0M-uLZcjidzVbF7KBkoUhZa1ie3Az3Q_8aYi8s',\n",
       "   'a': 'EMEODAhE7mHjg8zH94_qq55QmDcQawT2r5N_aP98Kn-b',\n",
       "   'e': 'EPEeGpDroK50eKwPBfLuSgkvEKiEAzDN6mkskS9pjdYy',\n",
       "   'r': 'EKHMDCNFlMBaMdDOq5Pf_vGMxkTqrDMrTx_28cZZJCcW'}},\n",
       " 'saiders': {'a.D.d': <src.keri.core.coring.Saider at 0x7ae9cc0536b0>,\n",
       "  'a.d': <src.keri.core.coring.Saider at 0x7ae9cab58860>,\n",
       "  'e.d': <src.keri.core.coring.Saider at 0x7ae9cab58200>,\n",
       "  'r.d': <src.keri.core.coring.Saider at 0x7ae9cab583e0>,\n",
       "  'd': <src.keri.core.coring.Saider at 0x7ae9cab589b0>},\n",
       " 'compact': {'v': 'ACDC10JSON00017f_',\n",
       "  'd': 'EE72uvM0mQqPTu1aYzg-ULffEtZzesbnSUka_XXbgtdg',\n",
       "  'i': 'EKXPX7hWw8KK5Y_Mxs2TOuCrGdN45vPIZ78NofRlVBws',\n",
       "  'ri': 'EuqwB_iOD86eK0ynAhA6AYwWvPeBhvmbcmOD-9cCmiVU',\n",
       "  's': 'ELG17Q0M-uLZcjidzVbF7KBkoUhZa1ie3Az3Q_8aYi8s',\n",
       "  'a': 'EMEODAhE7mHjg8zH94_qq55QmDcQawT2r5N_aP98Kn-b',\n",
       "  'e': 'EPEeGpDroK50eKwPBfLuSgkvEKiEAzDN6mkskS9pjdYy',\n",
       "  'r': 'EKHMDCNFlMBaMdDOq5Pf_vGMxkTqrDMrTx_28cZZJCcW'},\n",
       " 'non_compact': {'v': 'ACDC10JSON0008f0_',\n",
       "  'd': 'EE72uvM0mQqPTu1aYzg-ULffEtZzesbnSUka_XXbgtdg',\n",
       "  'i': 'EKXPX7hWw8KK5Y_Mxs2TOuCrGdN45vPIZ78NofRlVBws',\n",
       "  'ri': 'EuqwB_iOD86eK0ynAhA6AYwWvPeBhvmbcmOD-9cCmiVU',\n",
       "  's': 'ELG17Q0M-uLZcjidzVbF7KBkoUhZa1ie3Az3Q_8aYi8s',\n",
       "  'a': {'d': 'EMEODAhE7mHjg8zH94_qq55QmDcQawT2r5N_aP98Kn-b',\n",
       "   'dt': '2022-08-25T14:07:30.536257+00:00',\n",
       "   'i': 'EY4ldIBDZP4Tpnm3RX320BO0yz8Uz2nUSN-C409GnCJM',\n",
       "   'AID': 'Esf8b_AngI1d0KbOFjPGIfpVani0HTagWeaYTLs14PlE',\n",
       "   'LEI': '6383001AJTYIGC8Y1X37',\n",
       "   'personLegalName': 'John Smith',\n",
       "   'engagementContextRole': 'Chief Executive Officer',\n",
       "   'D': {'d': 'EElt4abYofAP-G_bSGZGWulIh-VygRh5-YVaj-oXMcew',\n",
       "    'test': 'something',\n",
       "    'le': {'n': 'ESyLzoJC4L_1abXOEN4f6uNZCmhqyEHg2geBHFhJ8KDs',\n",
       "     's': 'ENPXp1vQzRF6JwIuS-mp2U8Uf1MoADoP_GqQ62VsDZWY'}}},\n",
       "  'e': {'d': 'EPEeGpDroK50eKwPBfLuSgkvEKiEAzDN6mkskS9pjdYy',\n",
       "   'le': {'n': 'ESyLzoJC4L_1abXOEN4f6uNZCmhqyEHg2geBHFhJ8KDs',\n",
       "    's': 'ENPXp1vQzRF6JwIuS-mp2U8Uf1MoADoP_GqQ62VsDZWY'}},\n",
       "  'r': {'d': 'EKHMDCNFlMBaMdDOq5Pf_vGMxkTqrDMrTx_28cZZJCcW',\n",
       "   'usageDisclaimer': {'l': 'Usage of a valid, unexpired, and non-revoked vLEI Credential, as defined in the associated Ecosystem Governance Framework, does not assert that the Legal Entity is trustworthy, honest, reputable in its business dealings, safe to do business with, or compliant with any laws or that an implied or expressly intended purpose will be fulfilled.'},\n",
       "   'issuanceDisclaimer': {'l': 'All information in a valid, unexpired, and non-revoked vLEI Credential, as defined in the associated Ecosystem Governance Framework, is accurate as of the date the validation process was complete. The vLEI Credential has been issued to the legal entity or person named in the vLEI Credential as the subject; and the qualified vLEI Issuer exercised reasonable care to perform the validation process set forth in the vLEI Ecosystem Governance Framework.'},\n",
       "   'privacyDisclaimer': {'l': 'Privacy Considerations are applicable to QVI ECR AUTH vLEI Credentials.  It is the sole responsibility of QVIs as Issuees of QVI ECR AUTH vLEI Credentials to present these Credentials in a privacy-preserving manner using the mechanisms provided in the Issuance and Presentation Exchange (IPEX) protocol specification and the Authentic Chained Data Container (ACDC) specification.  https://github.com/WebOfTrust/IETF-IPEX and https://github.com/trustoverip/tswg-acdc-specification.'}}}}"
      ]
     },
     "execution_count": 13,
     "metadata": {},
     "output_type": "execute_result"
    }
   ],
   "source": [
    "results"
   ]
  },
  {
   "cell_type": "code",
   "execution_count": null,
   "id": "245973ef-387f-4d1b-97f1-ee373b1edeac",
   "metadata": {},
   "outputs": [],
   "source": []
  },
  {
   "cell_type": "code",
   "execution_count": 14,
   "id": "27736789-c3f5-4a21-a511-daa9d1896b78",
   "metadata": {},
   "outputs": [
    {
     "data": {
      "text/plain": [
       "'EE72uvM0mQqPTu1aYzg-ULffEtZzesbnSUka_XXbgtdg'"
      ]
     },
     "execution_count": 14,
     "metadata": {},
     "output_type": "execute_result"
    }
   ],
   "source": [
    "f = coring.Saider.saidify(results['compact'])\n",
    "f[0].qb64"
   ]
  },
  {
   "cell_type": "code",
   "execution_count": 15,
   "id": "014013c5-37d6-4bc0-b22a-fae7acf67b5b",
   "metadata": {},
   "outputs": [
    {
     "data": {
      "text/plain": [
       "{'v': 'ACDC10JSON0008f0_',\n",
       " 'd': 'EE72uvM0mQqPTu1aYzg-ULffEtZzesbnSUka_XXbgtdg',\n",
       " 'i': 'EKXPX7hWw8KK5Y_Mxs2TOuCrGdN45vPIZ78NofRlVBws',\n",
       " 'ri': 'EuqwB_iOD86eK0ynAhA6AYwWvPeBhvmbcmOD-9cCmiVU',\n",
       " 's': 'ELG17Q0M-uLZcjidzVbF7KBkoUhZa1ie3Az3Q_8aYi8s',\n",
       " 'a': {'d': 'EMEODAhE7mHjg8zH94_qq55QmDcQawT2r5N_aP98Kn-b',\n",
       "  'dt': '2022-08-25T14:07:30.536257+00:00',\n",
       "  'i': 'EY4ldIBDZP4Tpnm3RX320BO0yz8Uz2nUSN-C409GnCJM',\n",
       "  'AID': 'Esf8b_AngI1d0KbOFjPGIfpVani0HTagWeaYTLs14PlE',\n",
       "  'LEI': '6383001AJTYIGC8Y1X37',\n",
       "  'personLegalName': 'John Smith',\n",
       "  'engagementContextRole': 'Chief Executive Officer',\n",
       "  'D': {'d': 'EElt4abYofAP-G_bSGZGWulIh-VygRh5-YVaj-oXMcew',\n",
       "   'test': 'something',\n",
       "   'le': {'n': 'ESyLzoJC4L_1abXOEN4f6uNZCmhqyEHg2geBHFhJ8KDs',\n",
       "    's': 'ENPXp1vQzRF6JwIuS-mp2U8Uf1MoADoP_GqQ62VsDZWY'}}},\n",
       " 'e': {'d': 'EPEeGpDroK50eKwPBfLuSgkvEKiEAzDN6mkskS9pjdYy',\n",
       "  'le': {'n': 'ESyLzoJC4L_1abXOEN4f6uNZCmhqyEHg2geBHFhJ8KDs',\n",
       "   's': 'ENPXp1vQzRF6JwIuS-mp2U8Uf1MoADoP_GqQ62VsDZWY'}},\n",
       " 'r': {'d': 'EKHMDCNFlMBaMdDOq5Pf_vGMxkTqrDMrTx_28cZZJCcW',\n",
       "  'usageDisclaimer': {'l': 'Usage of a valid, unexpired, and non-revoked vLEI Credential, as defined in the associated Ecosystem Governance Framework, does not assert that the Legal Entity is trustworthy, honest, reputable in its business dealings, safe to do business with, or compliant with any laws or that an implied or expressly intended purpose will be fulfilled.'},\n",
       "  'issuanceDisclaimer': {'l': 'All information in a valid, unexpired, and non-revoked vLEI Credential, as defined in the associated Ecosystem Governance Framework, is accurate as of the date the validation process was complete. The vLEI Credential has been issued to the legal entity or person named in the vLEI Credential as the subject; and the qualified vLEI Issuer exercised reasonable care to perform the validation process set forth in the vLEI Ecosystem Governance Framework.'},\n",
       "  'privacyDisclaimer': {'l': 'Privacy Considerations are applicable to QVI ECR AUTH vLEI Credentials.  It is the sole responsibility of QVIs as Issuees of QVI ECR AUTH vLEI Credentials to present these Credentials in a privacy-preserving manner using the mechanisms provided in the Issuance and Presentation Exchange (IPEX) protocol specification and the Authentic Chained Data Container (ACDC) specification.  https://github.com/WebOfTrust/IETF-IPEX and https://github.com/trustoverip/tswg-acdc-specification.'}}}"
      ]
     },
     "execution_count": 15,
     "metadata": {},
     "output_type": "execute_result"
    }
   ],
   "source": [
    "results['non_compact']"
   ]
  },
  {
   "cell_type": "code",
   "execution_count": 16,
   "id": "8a823a53-5d82-465f-b6f0-8e2d7a4a5d28",
   "metadata": {},
   "outputs": [],
   "source": [
    "## Simple _compactify just collapses on label given.  Does no said calculations.\n",
    "# ex_compacted = coring.Saider._compactify(example)\n",
    "# ex_compacted"
   ]
  },
  {
   "cell_type": "code",
   "execution_count": 17,
   "id": "c1667542-0825-4482-a260-40c18a9bbbfe",
   "metadata": {},
   "outputs": [],
   "source": [
    "D_proof_dict = {\n",
    "          # this one is set to be wrong as a check (last char: W)\n",
    "        'd': 'EElt4abYofAP-G_bSGZGWulIh-VygRh5-YVaj-oXMceW', #EElt4abYofAP-G_bSGZGWulIh-VygRh5-YVaj-oXMcew >> correct said\n",
    "        'test': 'something',\n",
    "        'le': {\n",
    "           'n': 'ESyLzoJC4L_1abXOEN4f6uNZCmhqyEHg2geBHFhJ8KDs',\n",
    "            's': 'ENPXp1vQzRF6JwIuS-mp2U8Uf1MoADoP_GqQ62VsDZWY'\n",
    "            }\n",
    "          }\n",
    "      "
   ]
  },
  {
   "cell_type": "code",
   "execution_count": 18,
   "id": "8a969f52-810d-423f-903c-6157c651b8aa",
   "metadata": {},
   "outputs": [
    {
     "name": "stdout",
     "output_type": "stream",
     "text": [
      "EElt4abYofAP-G_bSGZGWulIh-VygRh5-YVaj-oXMcew\n",
      "EElt4abYofAP-G_bSGZGWulIh-VygRh5-YVaj-oXMcew\n"
     ]
    }
   ],
   "source": [
    "d_proof = coring.Saider.saidify(D_proof_dict)\n",
    "print(d_proof[0].qb64)\n",
    "print(results['non_compact']['a']['D']['d'])"
   ]
  },
  {
   "cell_type": "code",
   "execution_count": 19,
   "id": "2381a29a-71fe-49dc-8b84-01a97e8373ba",
   "metadata": {},
   "outputs": [],
   "source": [
    "a_proof_dict = {'d': 'EMEODAhE7mHjg8zH94_qq55QmDcQawT2r5N_aP98Kn-B', # EMEODAhE7mHjg8zH94_qq55QmDcQawT2r5N_aP98Kn-b >> correct said\n",
    "  'dt': '2022-08-25T14:07:30.536257+00:00',\n",
    "  'i': 'EY4ldIBDZP4Tpnm3RX320BO0yz8Uz2nUSN-C409GnCJM',\n",
    "  'AID': 'Esf8b_AngI1d0KbOFjPGIfpVani0HTagWeaYTLs14PlE',\n",
    "  'LEI': '6383001AJTYIGC8Y1X37',\n",
    "  'personLegalName': 'John Smith',\n",
    "  'engagementContextRole': 'Chief Executive Officer',\n",
    "  'D': 'EElt4abYofAP-G_bSGZGWulIh-VygRh5-YVaj-oXMcew'}"
   ]
  },
  {
   "cell_type": "code",
   "execution_count": 20,
   "id": "3572752f-d8d7-41f3-bab2-d5181a863159",
   "metadata": {},
   "outputs": [
    {
     "name": "stdout",
     "output_type": "stream",
     "text": [
      "EMEODAhE7mHjg8zH94_qq55QmDcQawT2r5N_aP98Kn-b\n",
      "EMEODAhE7mHjg8zH94_qq55QmDcQawT2r5N_aP98Kn-b\n",
      "{'d': 'EElt4abYofAP-G_bSGZGWulIh-VygRh5-YVaj-oXMcew', 'test': 'something', 'le': {'n': 'ESyLzoJC4L_1abXOEN4f6uNZCmhqyEHg2geBHFhJ8KDs', 's': 'ENPXp1vQzRF6JwIuS-mp2U8Uf1MoADoP_GqQ62VsDZWY'}}\n",
      "EMEODAhE7mHjg8zH94_qq55QmDcQawT2r5N_aP98Kn-b\n"
     ]
    }
   ],
   "source": [
    "a_proof = coring.Saider.saidify(a_proof_dict)\n",
    "print(a_proof[0].qb64)\n",
    "print(results['non_compact']['a']['d'])\n",
    "print(results['non_compact']['a']['D'])\n",
    "print(results['compact']['a'])"
   ]
  },
  {
   "cell_type": "code",
   "execution_count": 21,
   "id": "2f412729-b0d1-4545-986e-dbc8d584645c",
   "metadata": {},
   "outputs": [
    {
     "data": {
      "text/plain": [
       "[['a', 'D', 'd'], ['a', 'd'], ['e', 'd'], ['r', 'd'], ['d']]"
      ]
     },
     "execution_count": 21,
     "metadata": {},
     "output_type": "execute_result"
    }
   ],
   "source": [
    "paths = coring.Saider._map_paths_to_label(example, 'd')\n",
    "paths"
   ]
  },
  {
   "cell_type": "code",
   "execution_count": 22,
   "id": "cec22757-0f80-497d-8343-0b3f9f80f128",
   "metadata": {},
   "outputs": [
    {
     "data": {
      "text/plain": [
       "['legal-entity-official-organizational-role-vLEI-credential.json',\n",
       " 'ecr-authorization-vlei-credential.json',\n",
       " 'oor-authorization-vlei-credential.json',\n",
       " 'legal-entity-engagement-context-role-vLEI-credential.json',\n",
       " 'verifiable-ixbrl-report-attestation.json',\n",
       " 'legal-entity-vLEI-credential.json',\n",
       " 'qualified-vLEI-issuer-vLEI-credential.json']"
      ]
     },
     "execution_count": 22,
     "metadata": {},
     "output_type": "execute_result"
    }
   ],
   "source": [
    "## load schema tests\n",
    "\n",
    "import json\n",
    "import os\n",
    "\n",
    "def load_json(fp, root_path = ''):\n",
    "    if root_path != '' and root_path[-1] != '/':\n",
    "        fp = root_path + '/' + fp\n",
    "    else:\n",
    "        fp = root_path + fp\n",
    "    with open(fp) as jsf:\n",
    "        \n",
    "        return json.load(jsf)\n",
    "\n",
    "def get_files(_path):\n",
    "     try:\n",
    "        return [f for f in os.listdir(_path) if os.path.isfile(os.path.join(_path, f))]\n",
    "     except FileNotFoundError:\n",
    "        print(\"The specified directory does not exist.\")\n",
    "        return []\n",
    "\n",
    "_path = '../tests/data/schemas'\n",
    "files = {}\n",
    "_files = get_files(_path)\n",
    "_files"
   ]
  },
  {
   "cell_type": "code",
   "execution_count": 23,
   "id": "b465a2e2-a1de-4974-b0fb-ff00d3292381",
   "metadata": {},
   "outputs": [
    {
     "name": "stdout",
     "output_type": "stream",
     "text": [
      "legal-entity-official-organizational-role-vLEI-credential.json\n"
     ]
    }
   ],
   "source": [
    "for f in _files:\n",
    "    files[f] = {}\n",
    "    files[f]['data'] = load_json(f,_path)\n",
    "    # print(files[f]['data'] )\n",
    "    # break\n",
    "    # files\n",
    "for f in files:\n",
    "    print(f)\n",
    "    data = files[f]['data']\n",
    "    # pp.pprint(data)\n",
    "    paths1 = coring.Saider._map_paths_to_label(data, label = '$id')\n",
    "    # print(paths1)\n",
    "    results2 = coring.Saider._saidify(data, label = '$id')\n",
    "    files[f]['results']  =  results2\n",
    "    break\n",
    "    \n",
    "    "
   ]
  },
  {
   "cell_type": "code",
   "execution_count": 24,
   "id": "a7597fb0-5a10-468a-b67d-97bb544cf770",
   "metadata": {},
   "outputs": [
    {
     "name": "stdout",
     "output_type": "stream",
     "text": [
      "legal-entity-official-organizational-role-vLEI-credential.json\n",
      "{ '$id': 'EEDlXAz7bSy-iluSIvmSZHrP1qEqARkUmbMfhaPTolCi',\n",
      "  '$schema': 'http://json-schema.org/draft-07/schema#',\n",
      "  'title': 'Legal Entity Official Organizational Role vLEI Credential',\n",
      "  'description': 'A vLEI Role Credential issued by a Qualified vLEI issuer to '\n",
      "                 'official representatives of a Legal Entity',\n",
      "  'type': 'object',\n",
      "  'credentialType': 'LegalEntityOfficialOrganizationalRolevLEICredential',\n",
      "  'version': '1.0.0',\n",
      "  'properties': { 'v': {'description': 'Version', 'type': 'string'},\n",
      "                  'd': {'description': 'Credential SAID', 'type': 'string'},\n",
      "                  'u': {'description': 'One time use nonce', 'type': 'string'},\n",
      "                  'i': {'description': 'QVI Issuer AID', 'type': 'string'},\n",
      "                  'ri': { 'description': 'Credential status registry',\n",
      "                          'type': 'string'},\n",
      "                  's': {'description': 'Schema SAID', 'type': 'string'},\n",
      "                  'a': { 'oneOf': [ { 'description': 'Attributes block SAID',\n",
      "                                      'type': 'string'},\n",
      "                                    'ELDXjQ-FnKApK1DJhzmtKDcnfoJ9qusQr1Qz5g9MFt0o']},\n",
      "                  'e': { 'oneOf': [ { 'description': 'Edges block SAID',\n",
      "                                      'type': 'string'},\n",
      "                                    'EMsSqaJsthSBA4OINZ1_fxfNVkgEPF-Sg5fq-vXM7Z6b']},\n",
      "                  'r': { 'oneOf': [ { 'description': 'Rules block SAID',\n",
      "                                      'type': 'string'},\n",
      "                                    'ECllqarpkZrSIWCb97XlMpEZZH3q4kc--FQ9mbkFMb_5']}},\n",
      "  'additionalProperties': False,\n",
      "  'required': ['i', 'ri', 's', 'd', 'e', 'r']}\n"
     ]
    }
   ],
   "source": [
    "for f in files:\n",
    "    print(f)\n",
    "    pp.pprint(files[f]['results']['compact'])\n",
    "    break"
   ]
  },
  {
   "cell_type": "code",
   "execution_count": 25,
   "id": "d7100b74-95c9-4368-ab4c-74851c9eab99",
   "metadata": {},
   "outputs": [
    {
     "data": {
      "text/plain": [
       "{'$id': 'EEDlXAz7bSy-iluSIvmSZHrP1qEqARkUmbMfhaPTolCi',\n",
       " '$schema': 'http://json-schema.org/draft-07/schema#',\n",
       " 'title': 'Legal Entity Official Organizational Role vLEI Credential',\n",
       " 'description': 'A vLEI Role Credential issued by a Qualified vLEI issuer to official representatives of a Legal Entity',\n",
       " 'type': 'object',\n",
       " 'credentialType': 'LegalEntityOfficialOrganizationalRolevLEICredential',\n",
       " 'version': '1.0.0',\n",
       " 'properties': {'v': {'description': 'Version', 'type': 'string'},\n",
       "  'd': {'description': 'Credential SAID', 'type': 'string'},\n",
       "  'u': {'description': 'One time use nonce', 'type': 'string'},\n",
       "  'i': {'description': 'QVI Issuer AID', 'type': 'string'},\n",
       "  'ri': {'description': 'Credential status registry', 'type': 'string'},\n",
       "  's': {'description': 'Schema SAID', 'type': 'string'},\n",
       "  'a': {'oneOf': [{'description': 'Attributes block SAID', 'type': 'string'},\n",
       "    'ELDXjQ-FnKApK1DJhzmtKDcnfoJ9qusQr1Qz5g9MFt0o']},\n",
       "  'e': {'oneOf': [{'description': 'Edges block SAID', 'type': 'string'},\n",
       "    'EMsSqaJsthSBA4OINZ1_fxfNVkgEPF-Sg5fq-vXM7Z6b']},\n",
       "  'r': {'oneOf': [{'description': 'Rules block SAID', 'type': 'string'},\n",
       "    'ECllqarpkZrSIWCb97XlMpEZZH3q4kc--FQ9mbkFMb_5']}},\n",
       " 'additionalProperties': False,\n",
       " 'required': ['i', 'ri', 's', 'd', 'e', 'r']}"
      ]
     },
     "execution_count": 25,
     "metadata": {},
     "output_type": "execute_result"
    }
   ],
   "source": [
    "_f = 'legal-entity-official-organizational-role-vLEI-credential.json'\n",
    "files[_f]['results']['compact']"
   ]
  },
  {
   "cell_type": "code",
   "execution_count": 26,
   "id": "b7691ef9-ad46-4036-acc4-56755606fd9b",
   "metadata": {},
   "outputs": [
    {
     "data": {
      "text/plain": [
       "{'$id': 'EEDlXAz7bSy-iluSIvmSZHrP1qEqARkUmbMfhaPTolCi',\n",
       " '$schema': 'http://json-schema.org/draft-07/schema#',\n",
       " 'title': 'Legal Entity Official Organizational Role vLEI Credential',\n",
       " 'description': 'A vLEI Role Credential issued by a Qualified vLEI issuer to official representatives of a Legal Entity',\n",
       " 'type': 'object',\n",
       " 'credentialType': 'LegalEntityOfficialOrganizationalRolevLEICredential',\n",
       " 'version': '1.0.0',\n",
       " 'properties': {'v': {'description': 'Version', 'type': 'string'},\n",
       "  'd': {'description': 'Credential SAID', 'type': 'string'},\n",
       "  'u': {'description': 'One time use nonce', 'type': 'string'},\n",
       "  'i': {'description': 'QVI Issuer AID', 'type': 'string'},\n",
       "  'ri': {'description': 'Credential status registry', 'type': 'string'},\n",
       "  's': {'description': 'Schema SAID', 'type': 'string'},\n",
       "  'a': {'oneOf': [{'description': 'Attributes block SAID', 'type': 'string'},\n",
       "    {'$id': 'ELDXjQ-FnKApK1DJhzmtKDcnfoJ9qusQr1Qz5g9MFt0o',\n",
       "     'description': 'Attributes block',\n",
       "     'type': 'object',\n",
       "     'properties': {'d': {'description': 'Attributes block SAID',\n",
       "       'type': 'string'},\n",
       "      'i': {'description': 'Person Issuee AID', 'type': 'string'},\n",
       "      'dt': {'description': 'Issuance date time',\n",
       "       'type': 'string',\n",
       "       'format': 'date-time'},\n",
       "      'LEI': {'description': 'LEI of the Legal Entity',\n",
       "       'type': 'string',\n",
       "       'format': 'ISO 17442'},\n",
       "      'personLegalName': {'description': 'Recipient name as provided during identity assurance',\n",
       "       'type': 'string'},\n",
       "      'officialRole': {'description': 'Official role title',\n",
       "       'type': 'string'}},\n",
       "     'additionalProperties': False,\n",
       "     'required': ['i', 'dt', 'LEI', 'personLegalName', 'officialRole']}]},\n",
       "  'e': {'oneOf': [{'description': 'Edges block SAID', 'type': 'string'},\n",
       "    {'$id': 'EMsSqaJsthSBA4OINZ1_fxfNVkgEPF-Sg5fq-vXM7Z6b',\n",
       "     'description': 'Edges block',\n",
       "     'type': 'object',\n",
       "     'properties': {'d': {'description': 'Edges block SAID', 'type': 'string'},\n",
       "      'auth': {'description': 'Chain to Auth vLEI credential from legal entity',\n",
       "       'type': 'object',\n",
       "       'properties': {'n': {'description': 'SAID of the ACDC to which the edge connects',\n",
       "         'type': 'string'},\n",
       "        's': {'description': 'SAID of required schema of the credential pointed to by this node',\n",
       "         'type': 'string',\n",
       "         'const': 'EKA57bKBKxr_kN7iN5i7lMUxpMG-s19dRcmov1iDxz-E'},\n",
       "        'o': {'description': 'Operator indicating this node is the issuer',\n",
       "         'type': 'string',\n",
       "         'const': 'I2I'}},\n",
       "       'additionalProperties': False,\n",
       "       'required': ['n', 's', 'o']}},\n",
       "     'additionalProperties': False,\n",
       "     'required': ['d', 'auth']}]},\n",
       "  'r': {'oneOf': [{'description': 'Rules block SAID', 'type': 'string'},\n",
       "    {'$id': 'ECllqarpkZrSIWCb97XlMpEZZH3q4kc--FQ9mbkFMb_5',\n",
       "     'description': 'Rules block',\n",
       "     'type': 'object',\n",
       "     'properties': {'d': {'description': 'Rules block SAID', 'type': 'string'},\n",
       "      'usageDisclaimer': {'description': 'Usage Disclaimer',\n",
       "       'type': 'object',\n",
       "       'properties': {'l': {'description': 'Associated legal language',\n",
       "         'type': 'string',\n",
       "         'const': 'Usage of a valid, unexpired, and non-revoked vLEI Credential, as defined in the associated Ecosystem Governance Framework, does not assert that the Legal Entity is trustworthy, honest, reputable in its business dealings, safe to do business with, or compliant with any laws or that an implied or expressly intended purpose will be fulfilled.'}}},\n",
       "      'issuanceDisclaimer': {'description': 'Issuance Disclaimer',\n",
       "       'type': 'object',\n",
       "       'properties': {'l': {'description': 'Associated legal language',\n",
       "         'type': 'string',\n",
       "         'const': 'All information in a valid, unexpired, and non-revoked vLEI Credential, as defined in the associated Ecosystem Governance Framework, is accurate as of the date the validation process was complete. The vLEI Credential has been issued to the legal entity or person named in the vLEI Credential as the subject; and the qualified vLEI Issuer exercised reasonable care to perform the validation process set forth in the vLEI Ecosystem Governance Framework.'}}}},\n",
       "     'additionalProperties': False,\n",
       "     'required': ['d', 'usageDisclaimer', 'issuanceDisclaimer']}]}},\n",
       " 'additionalProperties': False,\n",
       " 'required': ['i', 'ri', 's', 'd', 'e', 'r']}"
      ]
     },
     "execution_count": 26,
     "metadata": {},
     "output_type": "execute_result"
    }
   ],
   "source": [
    "files[_f]['results']['non_compact']"
   ]
  },
  {
   "cell_type": "code",
   "execution_count": 27,
   "id": "e2b15446-8964-4c93-8d6d-169e980d9e52",
   "metadata": {},
   "outputs": [
    {
     "data": {
      "text/plain": [
       "dict_keys(['paths', 'sads', 'saiders', 'compact', 'non_compact'])"
      ]
     },
     "execution_count": 27,
     "metadata": {},
     "output_type": "execute_result"
    }
   ],
   "source": [
    "files[_f]['results'].keys()"
   ]
  },
  {
   "cell_type": "code",
   "execution_count": 28,
   "id": "58726aca-7b2b-49fd-aa74-6494d60b11bc",
   "metadata": {},
   "outputs": [
    {
     "data": {
      "text/plain": [
       "{'paths': [['properties', 'a', 'oneOf', 1, '$id'],\n",
       "  ['properties', 'e', 'oneOf', 1, '$id'],\n",
       "  ['properties', 'r', 'oneOf', 1, '$id'],\n",
       "  ['$id']],\n",
       " 'sads': {'properties.a.oneOf.1': {'$id': 'ELDXjQ-FnKApK1DJhzmtKDcnfoJ9qusQr1Qz5g9MFt0o',\n",
       "   'description': 'Attributes block',\n",
       "   'type': 'object',\n",
       "   'properties': {'d': {'description': 'Attributes block SAID',\n",
       "     'type': 'string'},\n",
       "    'i': {'description': 'Person Issuee AID', 'type': 'string'},\n",
       "    'dt': {'description': 'Issuance date time',\n",
       "     'type': 'string',\n",
       "     'format': 'date-time'},\n",
       "    'LEI': {'description': 'LEI of the Legal Entity',\n",
       "     'type': 'string',\n",
       "     'format': 'ISO 17442'},\n",
       "    'personLegalName': {'description': 'Recipient name as provided during identity assurance',\n",
       "     'type': 'string'},\n",
       "    'officialRole': {'description': 'Official role title', 'type': 'string'}},\n",
       "   'additionalProperties': False,\n",
       "   'required': ['i', 'dt', 'LEI', 'personLegalName', 'officialRole']},\n",
       "  'properties.e.oneOf.1': {'$id': 'EMsSqaJsthSBA4OINZ1_fxfNVkgEPF-Sg5fq-vXM7Z6b',\n",
       "   'description': 'Edges block',\n",
       "   'type': 'object',\n",
       "   'properties': {'d': {'description': 'Edges block SAID', 'type': 'string'},\n",
       "    'auth': {'description': 'Chain to Auth vLEI credential from legal entity',\n",
       "     'type': 'object',\n",
       "     'properties': {'n': {'description': 'SAID of the ACDC to which the edge connects',\n",
       "       'type': 'string'},\n",
       "      's': {'description': 'SAID of required schema of the credential pointed to by this node',\n",
       "       'type': 'string',\n",
       "       'const': 'EKA57bKBKxr_kN7iN5i7lMUxpMG-s19dRcmov1iDxz-E'},\n",
       "      'o': {'description': 'Operator indicating this node is the issuer',\n",
       "       'type': 'string',\n",
       "       'const': 'I2I'}},\n",
       "     'additionalProperties': False,\n",
       "     'required': ['n', 's', 'o']}},\n",
       "   'additionalProperties': False,\n",
       "   'required': ['d', 'auth']},\n",
       "  'properties.r.oneOf.1': {'$id': 'ECllqarpkZrSIWCb97XlMpEZZH3q4kc--FQ9mbkFMb_5',\n",
       "   'description': 'Rules block',\n",
       "   'type': 'object',\n",
       "   'properties': {'d': {'description': 'Rules block SAID', 'type': 'string'},\n",
       "    'usageDisclaimer': {'description': 'Usage Disclaimer',\n",
       "     'type': 'object',\n",
       "     'properties': {'l': {'description': 'Associated legal language',\n",
       "       'type': 'string',\n",
       "       'const': 'Usage of a valid, unexpired, and non-revoked vLEI Credential, as defined in the associated Ecosystem Governance Framework, does not assert that the Legal Entity is trustworthy, honest, reputable in its business dealings, safe to do business with, or compliant with any laws or that an implied or expressly intended purpose will be fulfilled.'}}},\n",
       "    'issuanceDisclaimer': {'description': 'Issuance Disclaimer',\n",
       "     'type': 'object',\n",
       "     'properties': {'l': {'description': 'Associated legal language',\n",
       "       'type': 'string',\n",
       "       'const': 'All information in a valid, unexpired, and non-revoked vLEI Credential, as defined in the associated Ecosystem Governance Framework, is accurate as of the date the validation process was complete. The vLEI Credential has been issued to the legal entity or person named in the vLEI Credential as the subject; and the qualified vLEI Issuer exercised reasonable care to perform the validation process set forth in the vLEI Ecosystem Governance Framework.'}}}},\n",
       "   'additionalProperties': False,\n",
       "   'required': ['d', 'usageDisclaimer', 'issuanceDisclaimer']},\n",
       "  '': {'$id': 'EEDlXAz7bSy-iluSIvmSZHrP1qEqARkUmbMfhaPTolCi',\n",
       "   '$schema': 'http://json-schema.org/draft-07/schema#',\n",
       "   'title': 'Legal Entity Official Organizational Role vLEI Credential',\n",
       "   'description': 'A vLEI Role Credential issued by a Qualified vLEI issuer to official representatives of a Legal Entity',\n",
       "   'type': 'object',\n",
       "   'credentialType': 'LegalEntityOfficialOrganizationalRolevLEICredential',\n",
       "   'version': '1.0.0',\n",
       "   'properties': {'v': {'description': 'Version', 'type': 'string'},\n",
       "    'd': {'description': 'Credential SAID', 'type': 'string'},\n",
       "    'u': {'description': 'One time use nonce', 'type': 'string'},\n",
       "    'i': {'description': 'QVI Issuer AID', 'type': 'string'},\n",
       "    'ri': {'description': 'Credential status registry', 'type': 'string'},\n",
       "    's': {'description': 'Schema SAID', 'type': 'string'},\n",
       "    'a': {'oneOf': [{'description': 'Attributes block SAID', 'type': 'string'},\n",
       "      'ELDXjQ-FnKApK1DJhzmtKDcnfoJ9qusQr1Qz5g9MFt0o']},\n",
       "    'e': {'oneOf': [{'description': 'Edges block SAID', 'type': 'string'},\n",
       "      'EMsSqaJsthSBA4OINZ1_fxfNVkgEPF-Sg5fq-vXM7Z6b']},\n",
       "    'r': {'oneOf': [{'description': 'Rules block SAID', 'type': 'string'},\n",
       "      'ECllqarpkZrSIWCb97XlMpEZZH3q4kc--FQ9mbkFMb_5']}},\n",
       "   'additionalProperties': False,\n",
       "   'required': ['i', 'ri', 's', 'd', 'e', 'r']}},\n",
       " 'saiders': {'properties.a.oneOf.1.$id': <src.keri.core.coring.Saider at 0x7ae9cab33fb0>,\n",
       "  'properties.e.oneOf.1.$id': <src.keri.core.coring.Saider at 0x7ae9cab85040>,\n",
       "  'properties.r.oneOf.1.$id': <src.keri.core.coring.Saider at 0x7ae9cab848c0>,\n",
       "  '$id': <src.keri.core.coring.Saider at 0x7ae9cab844a0>},\n",
       " 'compact': {'$id': 'EEDlXAz7bSy-iluSIvmSZHrP1qEqARkUmbMfhaPTolCi',\n",
       "  '$schema': 'http://json-schema.org/draft-07/schema#',\n",
       "  'title': 'Legal Entity Official Organizational Role vLEI Credential',\n",
       "  'description': 'A vLEI Role Credential issued by a Qualified vLEI issuer to official representatives of a Legal Entity',\n",
       "  'type': 'object',\n",
       "  'credentialType': 'LegalEntityOfficialOrganizationalRolevLEICredential',\n",
       "  'version': '1.0.0',\n",
       "  'properties': {'v': {'description': 'Version', 'type': 'string'},\n",
       "   'd': {'description': 'Credential SAID', 'type': 'string'},\n",
       "   'u': {'description': 'One time use nonce', 'type': 'string'},\n",
       "   'i': {'description': 'QVI Issuer AID', 'type': 'string'},\n",
       "   'ri': {'description': 'Credential status registry', 'type': 'string'},\n",
       "   's': {'description': 'Schema SAID', 'type': 'string'},\n",
       "   'a': {'oneOf': [{'description': 'Attributes block SAID', 'type': 'string'},\n",
       "     'ELDXjQ-FnKApK1DJhzmtKDcnfoJ9qusQr1Qz5g9MFt0o']},\n",
       "   'e': {'oneOf': [{'description': 'Edges block SAID', 'type': 'string'},\n",
       "     'EMsSqaJsthSBA4OINZ1_fxfNVkgEPF-Sg5fq-vXM7Z6b']},\n",
       "   'r': {'oneOf': [{'description': 'Rules block SAID', 'type': 'string'},\n",
       "     'ECllqarpkZrSIWCb97XlMpEZZH3q4kc--FQ9mbkFMb_5']}},\n",
       "  'additionalProperties': False,\n",
       "  'required': ['i', 'ri', 's', 'd', 'e', 'r']},\n",
       " 'non_compact': {'$id': 'EEDlXAz7bSy-iluSIvmSZHrP1qEqARkUmbMfhaPTolCi',\n",
       "  '$schema': 'http://json-schema.org/draft-07/schema#',\n",
       "  'title': 'Legal Entity Official Organizational Role vLEI Credential',\n",
       "  'description': 'A vLEI Role Credential issued by a Qualified vLEI issuer to official representatives of a Legal Entity',\n",
       "  'type': 'object',\n",
       "  'credentialType': 'LegalEntityOfficialOrganizationalRolevLEICredential',\n",
       "  'version': '1.0.0',\n",
       "  'properties': {'v': {'description': 'Version', 'type': 'string'},\n",
       "   'd': {'description': 'Credential SAID', 'type': 'string'},\n",
       "   'u': {'description': 'One time use nonce', 'type': 'string'},\n",
       "   'i': {'description': 'QVI Issuer AID', 'type': 'string'},\n",
       "   'ri': {'description': 'Credential status registry', 'type': 'string'},\n",
       "   's': {'description': 'Schema SAID', 'type': 'string'},\n",
       "   'a': {'oneOf': [{'description': 'Attributes block SAID', 'type': 'string'},\n",
       "     {'$id': 'ELDXjQ-FnKApK1DJhzmtKDcnfoJ9qusQr1Qz5g9MFt0o',\n",
       "      'description': 'Attributes block',\n",
       "      'type': 'object',\n",
       "      'properties': {'d': {'description': 'Attributes block SAID',\n",
       "        'type': 'string'},\n",
       "       'i': {'description': 'Person Issuee AID', 'type': 'string'},\n",
       "       'dt': {'description': 'Issuance date time',\n",
       "        'type': 'string',\n",
       "        'format': 'date-time'},\n",
       "       'LEI': {'description': 'LEI of the Legal Entity',\n",
       "        'type': 'string',\n",
       "        'format': 'ISO 17442'},\n",
       "       'personLegalName': {'description': 'Recipient name as provided during identity assurance',\n",
       "        'type': 'string'},\n",
       "       'officialRole': {'description': 'Official role title',\n",
       "        'type': 'string'}},\n",
       "      'additionalProperties': False,\n",
       "      'required': ['i', 'dt', 'LEI', 'personLegalName', 'officialRole']}]},\n",
       "   'e': {'oneOf': [{'description': 'Edges block SAID', 'type': 'string'},\n",
       "     {'$id': 'EMsSqaJsthSBA4OINZ1_fxfNVkgEPF-Sg5fq-vXM7Z6b',\n",
       "      'description': 'Edges block',\n",
       "      'type': 'object',\n",
       "      'properties': {'d': {'description': 'Edges block SAID',\n",
       "        'type': 'string'},\n",
       "       'auth': {'description': 'Chain to Auth vLEI credential from legal entity',\n",
       "        'type': 'object',\n",
       "        'properties': {'n': {'description': 'SAID of the ACDC to which the edge connects',\n",
       "          'type': 'string'},\n",
       "         's': {'description': 'SAID of required schema of the credential pointed to by this node',\n",
       "          'type': 'string',\n",
       "          'const': 'EKA57bKBKxr_kN7iN5i7lMUxpMG-s19dRcmov1iDxz-E'},\n",
       "         'o': {'description': 'Operator indicating this node is the issuer',\n",
       "          'type': 'string',\n",
       "          'const': 'I2I'}},\n",
       "        'additionalProperties': False,\n",
       "        'required': ['n', 's', 'o']}},\n",
       "      'additionalProperties': False,\n",
       "      'required': ['d', 'auth']}]},\n",
       "   'r': {'oneOf': [{'description': 'Rules block SAID', 'type': 'string'},\n",
       "     {'$id': 'ECllqarpkZrSIWCb97XlMpEZZH3q4kc--FQ9mbkFMb_5',\n",
       "      'description': 'Rules block',\n",
       "      'type': 'object',\n",
       "      'properties': {'d': {'description': 'Rules block SAID',\n",
       "        'type': 'string'},\n",
       "       'usageDisclaimer': {'description': 'Usage Disclaimer',\n",
       "        'type': 'object',\n",
       "        'properties': {'l': {'description': 'Associated legal language',\n",
       "          'type': 'string',\n",
       "          'const': 'Usage of a valid, unexpired, and non-revoked vLEI Credential, as defined in the associated Ecosystem Governance Framework, does not assert that the Legal Entity is trustworthy, honest, reputable in its business dealings, safe to do business with, or compliant with any laws or that an implied or expressly intended purpose will be fulfilled.'}}},\n",
       "       'issuanceDisclaimer': {'description': 'Issuance Disclaimer',\n",
       "        'type': 'object',\n",
       "        'properties': {'l': {'description': 'Associated legal language',\n",
       "          'type': 'string',\n",
       "          'const': 'All information in a valid, unexpired, and non-revoked vLEI Credential, as defined in the associated Ecosystem Governance Framework, is accurate as of the date the validation process was complete. The vLEI Credential has been issued to the legal entity or person named in the vLEI Credential as the subject; and the qualified vLEI Issuer exercised reasonable care to perform the validation process set forth in the vLEI Ecosystem Governance Framework.'}}}},\n",
       "      'additionalProperties': False,\n",
       "      'required': ['d', 'usageDisclaimer', 'issuanceDisclaimer']}]}},\n",
       "  'additionalProperties': False,\n",
       "  'required': ['i', 'ri', 's', 'd', 'e', 'r']}}"
      ]
     },
     "execution_count": 28,
     "metadata": {},
     "output_type": "execute_result"
    }
   ],
   "source": [
    "files[_f]['results']"
   ]
  },
  {
   "cell_type": "code",
   "execution_count": 29,
   "id": "93bad4bd-9dfa-46b7-a1fe-3f9819a89d8f",
   "metadata": {},
   "outputs": [
    {
     "name": "stdout",
     "output_type": "stream",
     "text": [
      "EEDlXAz7bSy-iluSIvmSZHrP1qEqARkUmbMfhaPTolCi\n",
      "EEDlXAz7bSy-iluSIvmSZHrP1qEqARkUmbMfhaPTolCi\n"
     ]
    }
   ],
   "source": [
    "s = coring.Saider.saidify(files[_f]['results']['compact'], label='$id')\n",
    "print(s[0].qb64)\n",
    "print(files[_f]['results']['non_compact']['$id'])"
   ]
  },
  {
   "cell_type": "code",
   "execution_count": null,
   "id": "0a5a00d2-f9ed-44d7-9b21-d1f4f8ebdeb3",
   "metadata": {},
   "outputs": [],
   "source": []
  }
 ],
 "metadata": {
  "kernelspec": {
   "display_name": "Python 3 (ipykernel)",
   "language": "python",
   "name": "python3"
  },
  "language_info": {
   "codemirror_mode": {
    "name": "ipython",
    "version": 3
   },
   "file_extension": ".py",
   "mimetype": "text/x-python",
   "name": "python",
   "nbconvert_exporter": "python",
   "pygments_lexer": "ipython3",
   "version": "3.12.7"
  }
 },
 "nbformat": 4,
 "nbformat_minor": 5
}
