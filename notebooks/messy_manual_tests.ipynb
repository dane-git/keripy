{
 "cells": [
  {
   "cell_type": "code",
   "execution_count": 1,
   "id": "af88669d-6af3-4de8-8b56-9c21de016c6f",
   "metadata": {},
   "outputs": [],
   "source": [
    "import sys\n",
    "import os\n",
    "import pprint\n",
    "pp = pprint.PrettyPrinter(indent=2, sort_dicts=False)"
   ]
  },
  {
   "cell_type": "code",
   "execution_count": 2,
   "id": "291331b8-4651-4fb6-b379-fa5ca9c122aa",
   "metadata": {},
   "outputs": [
    {
     "data": {
      "text/plain": [
       "'1.2.0-rc1'"
      ]
     },
     "execution_count": 2,
     "metadata": {},
     "output_type": "execute_result"
    }
   ],
   "source": [
    "## IMPORT KERIPY \n",
    "import warnings\n",
    "warnings.filterwarnings(\"ignore\")\n",
    "\n",
    "base_path = os.getcwd()\n",
    "relative_path = os.path.abspath(os.path.join(base_path, '../'))\n",
    "sys.path.append(relative_path)\n",
    "\n",
    "from src.keri.core import coring\n",
    "from src import keri\n",
    "keri.__version__"
   ]
  },
  {
   "cell_type": "code",
   "execution_count": 3,
   "id": "f3871feb-de21-4f03-8036-6d22b20bf36b",
   "metadata": {},
   "outputs": [
    {
     "name": "stdout",
     "output_type": "stream",
     "text": [
      "my_forks/keripy/src/keri/core/coring.py\n"
     ]
    }
   ],
   "source": [
    "print('/'.join(keri.core.coring.__file__.split('/')[6:]))"
   ]
  },
  {
   "cell_type": "code",
   "execution_count": 4,
   "id": "0a7a8f1d-449f-4c59-9e12-1ce4dbf9f937",
   "metadata": {},
   "outputs": [
    {
     "name": "stdout",
     "output_type": "stream",
     "text": [
      "  compact-acdc-algo\u001b[m\n",
      "* \u001b[32mcompact-acdc-algo-test\u001b[m\n",
      "  main\u001b[m\n"
     ]
    }
   ],
   "source": [
    "!git branch"
   ]
  },
  {
   "cell_type": "code",
   "execution_count": 5,
   "id": "829ef3cb-b66f-4d42-a46c-8f17f4952449",
   "metadata": {},
   "outputs": [],
   "source": [
    "## load schema tests\n",
    "\n",
    "import json\n",
    "import os\n",
    "\n",
    "def load_json(fp, root_path = ''):\n",
    "    if root_path != '' and root_path[-1] != '/':\n",
    "        fp = root_path + '/' + fp\n",
    "    else:\n",
    "        fp = root_path + fp\n",
    "    with open(fp) as jsf:\n",
    "        \n",
    "        return json.load(jsf)\n",
    "\n",
    "def get_files(_path):\n",
    "     try:\n",
    "        return [f for f in os.listdir(_path) if os.path.isfile(os.path.join(_path, f))]\n",
    "\n",
    "     except FileNotFoundError:\n",
    "        print(\"The specified directory does not exist.\")\n",
    "        return []\n",
    "\n",
    "\n",
    "\n"
   ]
  },
  {
   "cell_type": "code",
   "execution_count": 6,
   "id": "14d8153a-7bc1-4a29-8cd9-9d21ef49e6d8",
   "metadata": {},
   "outputs": [
    {
     "data": {
      "text/plain": [
       "['legal-entity-official-organizational-role-vLEI-credential.json',\n",
       " 'ecr-authorization-vlei-credential.json',\n",
       " 'oor-authorization-vlei-credential.json',\n",
       " 'legal-entity-engagement-context-role-vLEI-credential.json',\n",
       " 'verifiable-ixbrl-report-attestation.json',\n",
       " 'legal-entity-vLEI-credential.json',\n",
       " 'qualified-vLEI-issuer-vLEI-credential.json']"
      ]
     },
     "execution_count": 6,
     "metadata": {},
     "output_type": "execute_result"
    }
   ],
   "source": [
    "schema_path = '../tests/data/schemas'\n",
    "schema_files = get_files(schema_path)\n",
    "schema_files"
   ]
  },
  {
   "cell_type": "code",
   "execution_count": 7,
   "id": "a9d3e96b-b018-40f1-bb2b-c0f91aa52a5e",
   "metadata": {},
   "outputs": [
    {
     "data": {
      "text/plain": [
       "['legal-entity-official-organizational-role-vLEI-credential.json',\n",
       " 'ecr-authorization-vlei-credential.json',\n",
       " 'oor-authorization-vlei-credential.json',\n",
       " 'verifiable-ixbrl-report-attestation.json',\n",
       " 'legal-entity-engagement-context-role-vLEI-credential-le.json',\n",
       " 'legal-entity-vLEI-credential.json',\n",
       " 'qualified-vLEI-issuer-vLEI-credential.json',\n",
       " 'legal-entity-engagement-context-role-vLEI-credential-said.json',\n",
       " 'legal-entity-engagement-context-role-vLEI-credential-auth.json']"
      ]
     },
     "execution_count": 7,
     "metadata": {},
     "output_type": "execute_result"
    }
   ],
   "source": [
    "acdc_path = '../tests/data/acdcs'\n",
    "acdc_files = get_files(acdc_path)\n",
    "acdc_files"
   ]
  },
  {
   "cell_type": "code",
   "execution_count": 8,
   "id": "9af00fcb-853c-4e96-b2e6-6962d0089a39",
   "metadata": {},
   "outputs": [],
   "source": [
    "_files = {'acdcs': acdc_files, 'schemas': schema_files}"
   ]
  },
  {
   "cell_type": "code",
   "execution_count": 9,
   "id": "a24bb500-3e32-4cc3-8c90-c72662e3cbd3",
   "metadata": {},
   "outputs": [
    {
     "name": "stdout",
     "output_type": "stream",
     "text": [
      "  compact-acdc-algo\u001b[m\n",
      "* \u001b[32mcompact-acdc-algo-test\u001b[m\n",
      "  main\u001b[m\n"
     ]
    }
   ],
   "source": [
    "!git branch"
   ]
  },
  {
   "cell_type": "code",
   "execution_count": 10,
   "id": "69330319-f3d9-4cdc-893d-2aec8dda93a1",
   "metadata": {},
   "outputs": [
    {
     "data": {
      "text/plain": [
       "{'acdcs': ['legal-entity-official-organizational-role-vLEI-credential.json',\n",
       "  'ecr-authorization-vlei-credential.json',\n",
       "  'oor-authorization-vlei-credential.json',\n",
       "  'verifiable-ixbrl-report-attestation.json',\n",
       "  'legal-entity-engagement-context-role-vLEI-credential-le.json',\n",
       "  'legal-entity-vLEI-credential.json',\n",
       "  'qualified-vLEI-issuer-vLEI-credential.json',\n",
       "  'legal-entity-engagement-context-role-vLEI-credential-said.json',\n",
       "  'legal-entity-engagement-context-role-vLEI-credential-auth.json'],\n",
       " 'schemas': ['legal-entity-official-organizational-role-vLEI-credential.json',\n",
       "  'ecr-authorization-vlei-credential.json',\n",
       "  'oor-authorization-vlei-credential.json',\n",
       "  'legal-entity-engagement-context-role-vLEI-credential.json',\n",
       "  'verifiable-ixbrl-report-attestation.json',\n",
       "  'legal-entity-vLEI-credential.json',\n",
       "  'qualified-vLEI-issuer-vLEI-credential.json']}"
      ]
     },
     "execution_count": 10,
     "metadata": {},
     "output_type": "execute_result"
    }
   ],
   "source": [
    "_files"
   ]
  },
  {
   "cell_type": "code",
   "execution_count": 11,
   "id": "b34b0eee-cf8c-4e21-84e2-4be944f26239",
   "metadata": {},
   "outputs": [
    {
     "ename": "AttributeError",
     "evalue": "type object 'Saider' has no attribute '_map_paths_to_label'",
     "output_type": "error",
     "traceback": [
      "\u001b[0;31m---------------------------------------------------------------------------\u001b[0m",
      "\u001b[0;31mAttributeError\u001b[0m                            Traceback (most recent call last)",
      "Cell \u001b[0;32mIn[11], line 37\u001b[0m\n\u001b[1;32m     35\u001b[0m label \u001b[38;5;241m=\u001b[39m \u001b[38;5;124m'\u001b[39m\u001b[38;5;124md\u001b[39m\u001b[38;5;124m'\u001b[39m \u001b[38;5;28;01mif\u001b[39;00m f[\u001b[38;5;124m'\u001b[39m\u001b[38;5;124mkind\u001b[39m\u001b[38;5;124m'\u001b[39m] \u001b[38;5;241m==\u001b[39m \u001b[38;5;124m'\u001b[39m\u001b[38;5;124macdcs\u001b[39m\u001b[38;5;124m'\u001b[39m \u001b[38;5;28;01melse\u001b[39;00m \u001b[38;5;124m'\u001b[39m\u001b[38;5;124m$id\u001b[39m\u001b[38;5;124m'\u001b[39m\n\u001b[1;32m     36\u001b[0m f[\u001b[38;5;124m'\u001b[39m\u001b[38;5;124mlabel\u001b[39m\u001b[38;5;124m'\u001b[39m] \u001b[38;5;241m=\u001b[39m label\n\u001b[0;32m---> 37\u001b[0m f[\u001b[38;5;124m'\u001b[39m\u001b[38;5;124msaid_paths\u001b[39m\u001b[38;5;124m'\u001b[39m] \u001b[38;5;241m=\u001b[39m coring\u001b[38;5;241m.\u001b[39mSaider\u001b[38;5;241m.\u001b[39m_map_paths_to_label(f[\u001b[38;5;124m'\u001b[39m\u001b[38;5;124mdata\u001b[39m\u001b[38;5;124m'\u001b[39m], label)\n\u001b[1;32m     38\u001b[0m f[\u001b[38;5;124m'\u001b[39m\u001b[38;5;124msaidified\u001b[39m\u001b[38;5;124m'\u001b[39m] \u001b[38;5;241m=\u001b[39m coring\u001b[38;5;241m.\u001b[39mSaider\u001b[38;5;241m.\u001b[39m_saidify(f[\u001b[38;5;124m'\u001b[39m\u001b[38;5;124mdata\u001b[39m\u001b[38;5;124m'\u001b[39m], label\u001b[38;5;241m=\u001b[39mlabel)\n\u001b[1;32m     39\u001b[0m \u001b[38;5;66;03m# break\u001b[39;00m\n",
      "\u001b[0;31mAttributeError\u001b[0m: type object 'Saider' has no attribute '_map_paths_to_label'"
     ]
    }
   ],
   "source": [
    "def _log(message, file_path=\"test_log.txt\", _print=False):\n",
    "    \"\"\"\n",
    "    Logs a message to the console and appends it to a log file.\n",
    "\n",
    "    Parameters:\n",
    "        message (str): The message to log.\n",
    "        file_path (str): The path to the log file.\n",
    "    \"\"\"\n",
    "    # Print the message to the console\n",
    "    if _print:\n",
    "        print(message)\n",
    "    \n",
    "    # Append the message to the log file\n",
    "    with open(file_path, \"a\") as log_file:\n",
    "        log_file.write(message + \"\\n\")\n",
    "files = []\n",
    "_path = '../tests/data/'\n",
    "for kind in _files:\n",
    "    # print(kind)\n",
    "    this_path = _path + kind + '/'\n",
    "    # continue\n",
    "    for f in _files[kind]:\n",
    "        # print(this_path+f)\n",
    "        \n",
    "        this = {'file_path': this_path+f, 'file_name': f}\n",
    "        this['data'] = load_json(f,this_path)\n",
    "        this['kind'] = kind\n",
    "        files.append(this)\n",
    "    # print(files[f]['data'] )\n",
    "    # break\n",
    "#     # files\n",
    "for f in files:\n",
    "    # print(f.keys())\n",
    "    # print(f['file_name'])\n",
    "    label = 'd' if f['kind'] == 'acdcs' else '$id'\n",
    "    f['label'] = label\n",
    "    f['said_paths'] = coring.Saider._mapPathsToLabel(f['data'], label)\n",
    "    f['saidified'] = coring.Saider._saidify(f['data'], label=label)\n",
    "    # break\n",
    "report = ''\n",
    "false_matches = []\n",
    "for f in files:\n",
    "    \n",
    "    _log(f\"{'='*88}\")\n",
    "    _log( f\"file: {f['file_name']}\")\n",
    "    _log(f\"{'-'*88}\")\n",
    "    _log(f['kind'])\n",
    "    _log(f\"{str(list(f.keys()))}\")\n",
    "    _log( f\"file: {f['file_name']}\")\n",
    "    _log(f\"{'-'*30} DATA {'-'*30}\")\n",
    "    js = json.dumps(f['data'], indent=2)\n",
    "    _log(js)\n",
    "    # pp.pprint(f['data'])\n",
    "    _log(f\"{'='*66}\")\n",
    "    \n",
    "    _log(f\"{'-'*27} SAIDIFIED {'-'*27}\")\n",
    "    _log(f\"{'-'*29} PATHS {'-'*29}\")\n",
    "    _log(json.dumps(f['said_paths']))#, indent=2))\n",
    "    _log(f\"{'-'*29}  SADS {'-'*29}\")\n",
    "    for k in f['saidified']['sads']:\n",
    "        _sad = f['saidified']['sads']\n",
    "        this_said = coring.Saider.saidify(_sad[k], label=f['label'])[0].qb64\n",
    "        _log('*'*88)\n",
    "        manual_match = this_said == _sad[k][f['label']]\n",
    "        if not manual_match:\n",
    "            false_matches.append(manual_match)\n",
    "        _log(f\"{k}:\\tMatch: {manual_match}\\t{this_said}\")\n",
    "        _log(json.dumps(_sad[k], indent=2))\n",
    "    _log('*'*88)\n",
    "    _log(f\"{'-'*27} COMPACTED {'-'*27}\")\n",
    "    js = json.dumps(f['saidified']['compact'], indent=2)\n",
    "    _log(js)\n",
    "    _log(f\"{'-'*25} NON_COMPACTED {'-'*25}\")\n",
    "    js = json.dumps(f['saidified']['non_compact'], indent=2)\n",
    "    _log(js)\n",
    "    # pp.pprint(f['saidified'])\n",
    "    # break\n",
    "false_matches"
   ]
  }
 ],
 "metadata": {
  "kernelspec": {
   "display_name": "Python 3 (ipykernel)",
   "language": "python",
   "name": "python3"
  },
  "language_info": {
   "codemirror_mode": {
    "name": "ipython",
    "version": 3
   },
   "file_extension": ".py",
   "mimetype": "text/x-python",
   "name": "python",
   "nbconvert_exporter": "python",
   "pygments_lexer": "ipython3",
   "version": "3.12.7"
  }
 },
 "nbformat": 4,
 "nbformat_minor": 5
}
