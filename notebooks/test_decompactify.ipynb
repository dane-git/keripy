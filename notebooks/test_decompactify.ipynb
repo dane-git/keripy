{
 "cells": [
  {
   "cell_type": "code",
   "execution_count": 1,
   "id": "ed6eadbf-f4ce-4036-a0eb-37506e30bbab",
   "metadata": {},
   "outputs": [
    {
     "data": {
      "text/plain": [
       "'1.2.0-rc1'"
      ]
     },
     "execution_count": 1,
     "metadata": {},
     "output_type": "execute_result"
    }
   ],
   "source": [
    "import sys\n",
    "import os\n",
    "import pprint\n",
    "pp = pprint.PrettyPrinter(indent=2, sort_dicts=False)\n",
    "## IMPORT KERIPY \n",
    "import warnings\n",
    "warnings.filterwarnings(\"ignore\")\n",
    "\n",
    "base_path = os.getcwd()\n",
    "relative_path = os.path.abspath(os.path.join(base_path, '../'))\n",
    "sys.path.append(relative_path)\n",
    "\n",
    "from src.keri.core import coring\n",
    "from src import keri\n",
    "keri.__version__"
   ]
  },
  {
   "cell_type": "code",
   "execution_count": 2,
   "id": "eab26d24-d18b-41ce-b232-f51d75216938",
   "metadata": {},
   "outputs": [
    {
     "name": "stdout",
     "output_type": "stream",
     "text": [
      "my_forks/keripy/src/keri/core/coring.py\n"
     ]
    }
   ],
   "source": [
    "print('/'.join(keri.core.coring.__file__.split('/')[6:]))"
   ]
  },
  {
   "cell_type": "code",
   "execution_count": 3,
   "id": "4cfe5143-bbd9-40db-b09f-59b78c5cd7aa",
   "metadata": {},
   "outputs": [
    {
     "name": "stdout",
     "output_type": "stream",
     "text": [
      "  compact-acdc-algo\u001b[m\n",
      "* \u001b[32mcompact-acdc-algo-test\u001b[m\n",
      "  main\u001b[m\n"
     ]
    }
   ],
   "source": [
    "!git branch"
   ]
  },
  {
   "cell_type": "code",
   "execution_count": 4,
   "id": "0217e387-9683-467a-8aa8-ace9b4c8d65a",
   "metadata": {},
   "outputs": [
    {
     "name": "stdout",
     "output_type": "stream",
     "text": [
      "\u001b[33mcommit bed073c6ea781605fc95b63ec0d14fac5901f661\u001b[m\u001b[33m (\u001b[m\u001b[1;36mHEAD -> \u001b[m\u001b[1;32mcompact-acdc-algo-test\u001b[m\u001b[33m, \u001b[m\u001b[1;31morigin/compact-acdc-algo-test\u001b[m\u001b[33m)\u001b[m\n",
      "Merge: 1528422d 0d730a24\n",
      "Author: Dane Ogden <daneogden1@gmail.com>\n",
      "Date:   Wed Dec 4 21:03:46 2024 -0600\n",
      "\n",
      "    Merge branch 'compact-acdc-algo' into compact-acdc-algo-test\n",
      "    \n",
      "    - change saidify return to: final_saider, final_ked, [Sadders]\n"
     ]
    }
   ],
   "source": [
    "!git log -n 1"
   ]
  },
  {
   "cell_type": "code",
   "execution_count": 5,
   "id": "78cb8cf7-4098-491b-b32c-483dcd0a727e",
   "metadata": {},
   "outputs": [
    {
     "data": {
      "text/plain": [
       "b'{\"v\":\"ACDCCAAJSONAAkE.\",\"d\":\"EEIJU71Jo7pJKZWgDnlVdppgRjJsCF2zLmX_OSWgQo2_\",\"i\":\"EKXPX7hWw8KK5Y_Mxs2TOuCrGdN45vPIZ78NofRlVBws\",\"rd\":\"EuqwB_iOD86eK0ynAhA6AYwWvPeBhvmbcmOD-9cCmiVU\",\"s\":\"ELG17Q0M-uLZcjidzVbF7KBkoUhZa1ie3Az3Q_8aYi8s\",\"a\":{\"d\":\"EFY3EkE7moK-hHQNkfoGx48QwFRV4bHlviTbOgbvRftP\",\"dt\":\"2022-08-25T14:07:30.536257+00:00\",\"i\":\"EY4ldIBDZP4Tpnm3RX320BO0yz8Uz2nUSN-C409GnCJM\",\"AID\":\"Esf8b_AngI1d0KbOFjPGIfpVani0HTagWeaYTLs14PlE\",\"LEI\":\"6383001AJTYIGC8Y1X37\",\"personLegalName\":\"John Smith\",\"engagementContextRole\":\"Chief Executive Officer\",\"D\":{\"d\":\"EHpMHBSiFG475VJYutgT9WhccSjbtJo7sGfpk86tvN__\",\"le\":{\"n\":\"ESyLzoJC4L_1abXOEN4f6uNZCmhqyEHg2geBHFhJ8KDs\",\"s\":\"ENPXp1vQzRF6JwIuS-mp2U8Uf1MoADoP_GqQ62VsDZWY\",\"random\":\"something\"}}},\"e\":{\"d\":\"EPEeGpDroK50eKwPBfLuSgkvEKiEAzDN6mkskS9pjdYy\",\"le\":{\"n\":\"ESyLzoJC4L_1abXOEN4f6uNZCmhqyEHg2geBHFhJ8KDs\",\"s\":\"ENPXp1vQzRF6JwIuS-mp2U8Uf1MoADoP_GqQ62VsDZWY\"}},\"r\":{\"d\":\"EKHMDCNFlMBaMdDOq5Pf_vGMxkTqrDMrTx_28cZZJCcW\",\"usageDisclaimer\":{\"l\":\"Usage of a valid, unexpired, and non-revoked vLEI Credential, as defined in the associated Ecosystem Governance Framework, does not assert that the Legal Entity is trustworthy, honest, reputable in its business dealings, safe to do business with, or compliant with any laws or that an implied or expressly intended purpose will be fulfilled.\"},\"issuanceDisclaimer\":{\"l\":\"All information in a valid, unexpired, and non-revoked vLEI Credential, as defined in the associated Ecosystem Governance Framework, is accurate as of the date the validation process was complete. The vLEI Credential has been issued to the legal entity or person named in the vLEI Credential as the subject; and the qualified vLEI Issuer exercised reasonable care to perform the validation process set forth in the vLEI Ecosystem Governance Framework.\"},\"privacyDisclaimer\":{\"l\":\"Privacy Considerations are applicable to QVI ECR AUTH vLEI Credentials.  It is the sole responsibility of QVIs as Issuees of QVI ECR AUTH vLEI Credentials to present these Credentials in a privacy-preserving manner using the mechanisms provided in the Issuance and Presentation Exchange (IPEX) protocol specification and the Authentic Chained Data Container (ACDC) specification.  https://github.com/WebOfTrust/IETF-IPEX and https://github.com/trustoverip/tswg-acdc-specification.\"}}}'"
      ]
     },
     "execution_count": 5,
     "metadata": {},
     "output_type": "execute_result"
    }
   ],
   "source": [
    "acdc_test = b'{\"v\":\"ACDCCAAJSONAAkE.\",\"d\":\"EEIJU71Jo7pJKZWgDnlVdppgRjJsCF2zLmX_OSWgQo2_\",\"i\":\"EKXPX7hWw8KK5Y_Mxs2TOuCrGdN45vPIZ78NofRlVBws\",\"rd\":\"EuqwB_iOD86eK0ynAhA6AYwWvPeBhvmbcmOD-9cCmiVU\",\"s\":\"ELG17Q0M-uLZcjidzVbF7KBkoUhZa1ie3Az3Q_8aYi8s\",\"a\":{\"d\":\"EFY3EkE7moK-hHQNkfoGx48QwFRV4bHlviTbOgbvRftP\",\"dt\":\"2022-08-25T14:07:30.536257+00:00\",\"i\":\"EY4ldIBDZP4Tpnm3RX320BO0yz8Uz2nUSN-C409GnCJM\",\"AID\":\"Esf8b_AngI1d0KbOFjPGIfpVani0HTagWeaYTLs14PlE\",\"LEI\":\"6383001AJTYIGC8Y1X37\",\"personLegalName\":\"John Smith\",\"engagementContextRole\":\"Chief Executive Officer\",\"D\":{\"d\":\"EHpMHBSiFG475VJYutgT9WhccSjbtJo7sGfpk86tvN__\",\"le\":{\"n\":\"ESyLzoJC4L_1abXOEN4f6uNZCmhqyEHg2geBHFhJ8KDs\",\"s\":\"ENPXp1vQzRF6JwIuS-mp2U8Uf1MoADoP_GqQ62VsDZWY\",\"random\":\"something\"}}},\"e\":{\"d\":\"EPEeGpDroK50eKwPBfLuSgkvEKiEAzDN6mkskS9pjdYy\",\"le\":{\"n\":\"ESyLzoJC4L_1abXOEN4f6uNZCmhqyEHg2geBHFhJ8KDs\",\"s\":\"ENPXp1vQzRF6JwIuS-mp2U8Uf1MoADoP_GqQ62VsDZWY\"}},\"r\":{\"d\":\"EKHMDCNFlMBaMdDOq5Pf_vGMxkTqrDMrTx_28cZZJCcW\",\"usageDisclaimer\":{\"l\":\"Usage of a valid, unexpired, and non-revoked vLEI Credential, as defined in the associated Ecosystem Governance Framework, does not assert that the Legal Entity is trustworthy, honest, reputable in its business dealings, safe to do business with, or compliant with any laws or that an implied or expressly intended purpose will be fulfilled.\"},\"issuanceDisclaimer\":{\"l\":\"All information in a valid, unexpired, and non-revoked vLEI Credential, as defined in the associated Ecosystem Governance Framework, is accurate as of the date the validation process was complete. The vLEI Credential has been issued to the legal entity or person named in the vLEI Credential as the subject; and the qualified vLEI Issuer exercised reasonable care to perform the validation process set forth in the vLEI Ecosystem Governance Framework.\"},\"privacyDisclaimer\":{\"l\":\"Privacy Considerations are applicable to QVI ECR AUTH vLEI Credentials.  It is the sole responsibility of QVIs as Issuees of QVI ECR AUTH vLEI Credentials to present these Credentials in a privacy-preserving manner using the mechanisms provided in the Issuance and Presentation Exchange (IPEX) protocol specification and the Authentic Chained Data Container (ACDC) specification.  https://github.com/WebOfTrust/IETF-IPEX and https://github.com/trustoverip/tswg-acdc-specification.\"}}}'\n",
    "acdc_test"
   ]
  },
  {
   "cell_type": "code",
   "execution_count": 6,
   "id": "a5810a98-8feb-4ded-91da-1f13b26475c5",
   "metadata": {},
   "outputs": [
    {
     "data": {
      "text/plain": [
       "{'v': 'ACDCCAAJSONAAkE.',\n",
       " 'd': 'EEIJU71Jo7pJKZWgDnlVdppgRjJsCF2zLmX_OSWgQo2_',\n",
       " 'i': 'EKXPX7hWw8KK5Y_Mxs2TOuCrGdN45vPIZ78NofRlVBws',\n",
       " 'rd': 'EuqwB_iOD86eK0ynAhA6AYwWvPeBhvmbcmOD-9cCmiVU',\n",
       " 's': 'ELG17Q0M-uLZcjidzVbF7KBkoUhZa1ie3Az3Q_8aYi8s',\n",
       " 'a': {'d': 'EFY3EkE7moK-hHQNkfoGx48QwFRV4bHlviTbOgbvRftP',\n",
       "  'dt': '2022-08-25T14:07:30.536257+00:00',\n",
       "  'i': 'EY4ldIBDZP4Tpnm3RX320BO0yz8Uz2nUSN-C409GnCJM',\n",
       "  'AID': 'Esf8b_AngI1d0KbOFjPGIfpVani0HTagWeaYTLs14PlE',\n",
       "  'LEI': '6383001AJTYIGC8Y1X37',\n",
       "  'personLegalName': 'John Smith',\n",
       "  'engagementContextRole': 'Chief Executive Officer',\n",
       "  'D': {'d': 'EHpMHBSiFG475VJYutgT9WhccSjbtJo7sGfpk86tvN__',\n",
       "   'le': {'n': 'ESyLzoJC4L_1abXOEN4f6uNZCmhqyEHg2geBHFhJ8KDs',\n",
       "    's': 'ENPXp1vQzRF6JwIuS-mp2U8Uf1MoADoP_GqQ62VsDZWY',\n",
       "    'random': 'something'}}},\n",
       " 'e': {'d': 'EPEeGpDroK50eKwPBfLuSgkvEKiEAzDN6mkskS9pjdYy',\n",
       "  'le': {'n': 'ESyLzoJC4L_1abXOEN4f6uNZCmhqyEHg2geBHFhJ8KDs',\n",
       "   's': 'ENPXp1vQzRF6JwIuS-mp2U8Uf1MoADoP_GqQ62VsDZWY'}},\n",
       " 'r': {'d': 'EKHMDCNFlMBaMdDOq5Pf_vGMxkTqrDMrTx_28cZZJCcW',\n",
       "  'usageDisclaimer': {'l': 'Usage of a valid, unexpired, and non-revoked vLEI Credential, as defined in the associated Ecosystem Governance Framework, does not assert that the Legal Entity is trustworthy, honest, reputable in its business dealings, safe to do business with, or compliant with any laws or that an implied or expressly intended purpose will be fulfilled.'},\n",
       "  'issuanceDisclaimer': {'l': 'All information in a valid, unexpired, and non-revoked vLEI Credential, as defined in the associated Ecosystem Governance Framework, is accurate as of the date the validation process was complete. The vLEI Credential has been issued to the legal entity or person named in the vLEI Credential as the subject; and the qualified vLEI Issuer exercised reasonable care to perform the validation process set forth in the vLEI Ecosystem Governance Framework.'},\n",
       "  'privacyDisclaimer': {'l': 'Privacy Considerations are applicable to QVI ECR AUTH vLEI Credentials.  It is the sole responsibility of QVIs as Issuees of QVI ECR AUTH vLEI Credentials to present these Credentials in a privacy-preserving manner using the mechanisms provided in the Issuance and Presentation Exchange (IPEX) protocol specification and the Authentic Chained Data Container (ACDC) specification.  https://github.com/WebOfTrust/IETF-IPEX and https://github.com/trustoverip/tswg-acdc-specification.'}}}"
      ]
     },
     "execution_count": 6,
     "metadata": {},
     "output_type": "execute_result"
    }
   ],
   "source": [
    "acdc_dict = coring.loads(acdc_test)\n",
    "acdc_dict"
   ]
  },
  {
   "cell_type": "code",
   "execution_count": 7,
   "id": "e0c2cf70-436a-4953-8b8a-7ad179c879a6",
   "metadata": {},
   "outputs": [],
   "source": [
    "saider, ked, sads = coring.Saider.saidify(acdc_dict)"
   ]
  },
  {
   "cell_type": "code",
   "execution_count": 8,
   "id": "e2631920-3318-4291-8060-738ecbb770ad",
   "metadata": {},
   "outputs": [
    {
     "name": "stdout",
     "output_type": "stream",
     "text": [
      "['a', 'D', 'd']\n",
      "['a', 'd']\n",
      "['e', 'd']\n",
      "['r', 'd']\n",
      "['d']\n"
     ]
    }
   ],
   "source": [
    "for s in sads:\n",
    "    print(s.path)"
   ]
  },
  {
   "cell_type": "code",
   "execution_count": 9,
   "id": "3dff5482-1382-4633-a749-37b139d18a77",
   "metadata": {},
   "outputs": [],
   "source": [
    "def simple_decompactify(path, all_sads):\n",
    "    \"\"\"\n",
    "    Rebuilds a nested structure recursively by adding compactified versions\n",
    "    of SADs along the specified path.\n",
    "\n",
    "    Parameters:\n",
    "        path (list): The path to decompactify to.\n",
    "        all_sads (list): A list of Sadder instances.\n",
    "\n",
    "    Returns:\n",
    "        dict: The modified root object with the specified path decompactified.\n",
    "    \"\"\"\n",
    "    # Convert all_sads into a dictionary keyed by their paths (tuple form)\n",
    "    # sads_dict = {tuple(sad.path): sad for sad in all_sads}\n",
    "    root_ked = {} \n",
    "    print(\"PATH\", path)\n",
    "    for sad in all_sads:\n",
    "        if [sad.label] == sad.path:\n",
    "            root_ked = deepcopy(sad.ked)\n",
    "    # print('root_ked')\n",
    "    # pp.pprint(root_ked)\n",
    "    build = []\n",
    "    def build_structure(current_path, current_obj):\n",
    "        # If the current_path is empty, we're done\n",
    "        if not current_path:\n",
    "            for k in current_obj:\n",
    "                if k in root_ked:\n",
    "                    root_ked[k] = current_obj[k]\n",
    "            return root_ked\n",
    "        for sad in all_sads:\n",
    "\n",
    "            match_path = sad.path[:-1][:]\n",
    "\n",
    "            if match_path == current_path:\n",
    "                fill_path = match_path[-1]\n",
    "                f = False\n",
    "                for k in current_obj:\n",
    "                    temp = deepcopy(sad.ked)\n",
    "                    temp[k] = deepcopy(current_obj[k])\n",
    "                    current_obj = {}\n",
    "                    current_obj[fill_path] = temp\n",
    "                    f = True\n",
    "                    if fill_path in k:\n",
    "                        current_obj[k] = fill_path\n",
    "                if not f:\n",
    "                    current_obj[fill_path] = sad.ked\n",
    "                build.append([match_path[-1], sad.ked])\n",
    "                current_path.pop()\n",
    "                return build_structure(current_path, current_obj)\n",
    "        return current_obj\n",
    "        \n",
    "    root_copy = deepcopy(root_ked)\n",
    "    path = path[:-1]\n",
    "    return build_structure( path, {})"
   ]
  },
  {
   "cell_type": "code",
   "execution_count": 10,
   "id": "671aefd1-7e2b-4dcf-96a9-532f74084eca",
   "metadata": {},
   "outputs": [
    {
     "name": "stdout",
     "output_type": "stream",
     "text": [
      "PATH ['a', 'D', 'd']\n",
      "829\n",
      "byte size: 829 \t\tsize_b64: AAM9\n",
      "ACDCCAAJSONAAF-.\n",
      "ACDCCAAJSONAAM9.\n",
      "========================================================================================\n",
      "{ 'v': 'ACDCCAAJSONAAM9.',\n",
      "  'd': 'EEIJU71Jo7pJKZWgDnlVdppgRjJsCF2zLmX_OSWgQo2_',\n",
      "  'i': 'EKXPX7hWw8KK5Y_Mxs2TOuCrGdN45vPIZ78NofRlVBws',\n",
      "  'rd': 'EuqwB_iOD86eK0ynAhA6AYwWvPeBhvmbcmOD-9cCmiVU',\n",
      "  's': 'ELG17Q0M-uLZcjidzVbF7KBkoUhZa1ie3Az3Q_8aYi8s',\n",
      "  'a': { 'd': 'EFY3EkE7moK-hHQNkfoGx48QwFRV4bHlviTbOgbvRftP',\n",
      "         'dt': '2022-08-25T14:07:30.536257+00:00',\n",
      "         'i': 'EY4ldIBDZP4Tpnm3RX320BO0yz8Uz2nUSN-C409GnCJM',\n",
      "         'AID': 'Esf8b_AngI1d0KbOFjPGIfpVani0HTagWeaYTLs14PlE',\n",
      "         'LEI': '6383001AJTYIGC8Y1X37',\n",
      "         'personLegalName': 'John Smith',\n",
      "         'engagementContextRole': 'Chief Executive Officer',\n",
      "         'D': { 'd': 'EHpMHBSiFG475VJYutgT9WhccSjbtJo7sGfpk86tvN__',\n",
      "                'le': { 'n': 'ESyLzoJC4L_1abXOEN4f6uNZCmhqyEHg2geBHFhJ8KDs',\n",
      "                        's': 'ENPXp1vQzRF6JwIuS-mp2U8Uf1MoADoP_GqQ62VsDZWY',\n",
      "                        'random': 'something'}}},\n",
      "  'e': 'EPEeGpDroK50eKwPBfLuSgkvEKiEAzDN6mkskS9pjdYy',\n",
      "  'r': 'EKHMDCNFlMBaMdDOq5Pf_vGMxkTqrDMrTx_28cZZJCcW'}\n",
      "\n",
      "EEIJU71Jo7pJKZWgDnlVdppgRjJsCF2zLmX_OSWgQo2_ True\n",
      "['a', 'D', 'd'] EHpMHBSiFG475VJYutgT9WhccSjbtJo7sGfpk86tvN__\n",
      "['a', 'd'] EFY3EkE7moK-hHQNkfoGx48QwFRV4bHlviTbOgbvRftP\n",
      "['d'] EEIJU71Jo7pJKZWgDnlVdppgRjJsCF2zLmX_OSWgQo2_\n",
      "----------------------------------------------------------------------------------------\n",
      "PATH ['a', 'd']\n",
      "693\n",
      "byte size: 693 \t\tsize_b64: AAK1\n",
      "ACDCCAAJSONAAF-.\n",
      "ACDCCAAJSONAAK1.\n",
      "========================================================================================\n",
      "{ 'v': 'ACDCCAAJSONAAK1.',\n",
      "  'd': 'EEIJU71Jo7pJKZWgDnlVdppgRjJsCF2zLmX_OSWgQo2_',\n",
      "  'i': 'EKXPX7hWw8KK5Y_Mxs2TOuCrGdN45vPIZ78NofRlVBws',\n",
      "  'rd': 'EuqwB_iOD86eK0ynAhA6AYwWvPeBhvmbcmOD-9cCmiVU',\n",
      "  's': 'ELG17Q0M-uLZcjidzVbF7KBkoUhZa1ie3Az3Q_8aYi8s',\n",
      "  'a': { 'd': 'EFY3EkE7moK-hHQNkfoGx48QwFRV4bHlviTbOgbvRftP',\n",
      "         'dt': '2022-08-25T14:07:30.536257+00:00',\n",
      "         'i': 'EY4ldIBDZP4Tpnm3RX320BO0yz8Uz2nUSN-C409GnCJM',\n",
      "         'AID': 'Esf8b_AngI1d0KbOFjPGIfpVani0HTagWeaYTLs14PlE',\n",
      "         'LEI': '6383001AJTYIGC8Y1X37',\n",
      "         'personLegalName': 'John Smith',\n",
      "         'engagementContextRole': 'Chief Executive Officer',\n",
      "         'D': 'EHpMHBSiFG475VJYutgT9WhccSjbtJo7sGfpk86tvN__'},\n",
      "  'e': 'EPEeGpDroK50eKwPBfLuSgkvEKiEAzDN6mkskS9pjdYy',\n",
      "  'r': 'EKHMDCNFlMBaMdDOq5Pf_vGMxkTqrDMrTx_28cZZJCcW'}\n",
      "\n",
      "EEIJU71Jo7pJKZWgDnlVdppgRjJsCF2zLmX_OSWgQo2_ True\n",
      "['a', 'd'] EFY3EkE7moK-hHQNkfoGx48QwFRV4bHlviTbOgbvRftP\n",
      "['d'] EEIJU71Jo7pJKZWgDnlVdppgRjJsCF2zLmX_OSWgQo2_\n",
      "----------------------------------------------------------------------------------------\n",
      "PATH ['e', 'd']\n",
      "497\n",
      "byte size: 497 \t\tsize_b64: AAHx\n",
      "ACDCCAAJSONAAF-.\n",
      "ACDCCAAJSONAAHx.\n",
      "========================================================================================\n",
      "{ 'v': 'ACDCCAAJSONAAHx.',\n",
      "  'd': 'EEIJU71Jo7pJKZWgDnlVdppgRjJsCF2zLmX_OSWgQo2_',\n",
      "  'i': 'EKXPX7hWw8KK5Y_Mxs2TOuCrGdN45vPIZ78NofRlVBws',\n",
      "  'rd': 'EuqwB_iOD86eK0ynAhA6AYwWvPeBhvmbcmOD-9cCmiVU',\n",
      "  's': 'ELG17Q0M-uLZcjidzVbF7KBkoUhZa1ie3Az3Q_8aYi8s',\n",
      "  'a': 'EFY3EkE7moK-hHQNkfoGx48QwFRV4bHlviTbOgbvRftP',\n",
      "  'e': { 'd': 'EPEeGpDroK50eKwPBfLuSgkvEKiEAzDN6mkskS9pjdYy',\n",
      "         'le': { 'n': 'ESyLzoJC4L_1abXOEN4f6uNZCmhqyEHg2geBHFhJ8KDs',\n",
      "                 's': 'ENPXp1vQzRF6JwIuS-mp2U8Uf1MoADoP_GqQ62VsDZWY'}},\n",
      "  'r': 'EKHMDCNFlMBaMdDOq5Pf_vGMxkTqrDMrTx_28cZZJCcW'}\n",
      "\n",
      "EEIJU71Jo7pJKZWgDnlVdppgRjJsCF2zLmX_OSWgQo2_ True\n",
      "['e', 'd'] EPEeGpDroK50eKwPBfLuSgkvEKiEAzDN6mkskS9pjdYy\n",
      "['d'] EEIJU71Jo7pJKZWgDnlVdppgRjJsCF2zLmX_OSWgQo2_\n",
      "----------------------------------------------------------------------------------------\n",
      "PATH ['r', 'd']\n",
      "1746\n",
      "byte size: 1746 \t\tsize_b64: AAbS\n",
      "ACDCCAAJSONAAF-.\n",
      "ACDCCAAJSONAAbS.\n",
      "========================================================================================\n",
      "{ 'v': 'ACDCCAAJSONAAbS.',\n",
      "  'd': 'EEIJU71Jo7pJKZWgDnlVdppgRjJsCF2zLmX_OSWgQo2_',\n",
      "  'i': 'EKXPX7hWw8KK5Y_Mxs2TOuCrGdN45vPIZ78NofRlVBws',\n",
      "  'rd': 'EuqwB_iOD86eK0ynAhA6AYwWvPeBhvmbcmOD-9cCmiVU',\n",
      "  's': 'ELG17Q0M-uLZcjidzVbF7KBkoUhZa1ie3Az3Q_8aYi8s',\n",
      "  'a': 'EFY3EkE7moK-hHQNkfoGx48QwFRV4bHlviTbOgbvRftP',\n",
      "  'e': 'EPEeGpDroK50eKwPBfLuSgkvEKiEAzDN6mkskS9pjdYy',\n",
      "  'r': { 'd': 'EKHMDCNFlMBaMdDOq5Pf_vGMxkTqrDMrTx_28cZZJCcW',\n",
      "         'usageDisclaimer': { 'l': 'Usage of a valid, unexpired, and '\n",
      "                                   'non-revoked vLEI Credential, as defined in '\n",
      "                                   'the associated Ecosystem Governance '\n",
      "                                   'Framework, does not assert that the Legal '\n",
      "                                   'Entity is trustworthy, honest, reputable '\n",
      "                                   'in its business dealings, safe to do '\n",
      "                                   'business with, or compliant with any laws '\n",
      "                                   'or that an implied or expressly intended '\n",
      "                                   'purpose will be fulfilled.'},\n",
      "         'issuanceDisclaimer': { 'l': 'All information in a valid, unexpired, '\n",
      "                                      'and non-revoked vLEI Credential, as '\n",
      "                                      'defined in the associated Ecosystem '\n",
      "                                      'Governance Framework, is accurate as of '\n",
      "                                      'the date the validation process was '\n",
      "                                      'complete. The vLEI Credential has been '\n",
      "                                      'issued to the legal entity or person '\n",
      "                                      'named in the vLEI Credential as the '\n",
      "                                      'subject; and the qualified vLEI Issuer '\n",
      "                                      'exercised reasonable care to perform '\n",
      "                                      'the validation process set forth in the '\n",
      "                                      'vLEI Ecosystem Governance Framework.'},\n",
      "         'privacyDisclaimer': { 'l': 'Privacy Considerations are applicable to '\n",
      "                                     'QVI ECR AUTH vLEI Credentials.  It is '\n",
      "                                     'the sole responsibility of QVIs as '\n",
      "                                     'Issuees of QVI ECR AUTH vLEI Credentials '\n",
      "                                     'to present these Credentials in a '\n",
      "                                     'privacy-preserving manner using the '\n",
      "                                     'mechanisms provided in the Issuance and '\n",
      "                                     'Presentation Exchange (IPEX) protocol '\n",
      "                                     'specification and the Authentic Chained '\n",
      "                                     'Data Container (ACDC) specification.  '\n",
      "                                     'https://github.com/WebOfTrust/IETF-IPEX '\n",
      "                                     'and '\n",
      "                                     'https://github.com/trustoverip/tswg-acdc-specification.'}}}\n",
      "\n",
      "EEIJU71Jo7pJKZWgDnlVdppgRjJsCF2zLmX_OSWgQo2_ True\n",
      "['r', 'd'] EKHMDCNFlMBaMdDOq5Pf_vGMxkTqrDMrTx_28cZZJCcW\n",
      "['d'] EEIJU71Jo7pJKZWgDnlVdppgRjJsCF2zLmX_OSWgQo2_\n",
      "----------------------------------------------------------------------------------------\n",
      "PATH ['d']\n",
      "382\n",
      "byte size: 382 \t\tsize_b64: AAF-\n",
      "ACDCCAAJSONAAF-.\n",
      "ACDCCAAJSONAAF-.\n",
      "========================================================================================\n",
      "{ 'v': 'ACDCCAAJSONAAF-.',\n",
      "  'd': 'EEIJU71Jo7pJKZWgDnlVdppgRjJsCF2zLmX_OSWgQo2_',\n",
      "  'i': 'EKXPX7hWw8KK5Y_Mxs2TOuCrGdN45vPIZ78NofRlVBws',\n",
      "  'rd': 'EuqwB_iOD86eK0ynAhA6AYwWvPeBhvmbcmOD-9cCmiVU',\n",
      "  's': 'ELG17Q0M-uLZcjidzVbF7KBkoUhZa1ie3Az3Q_8aYi8s',\n",
      "  'a': 'EFY3EkE7moK-hHQNkfoGx48QwFRV4bHlviTbOgbvRftP',\n",
      "  'e': 'EPEeGpDroK50eKwPBfLuSgkvEKiEAzDN6mkskS9pjdYy',\n",
      "  'r': 'EKHMDCNFlMBaMdDOq5Pf_vGMxkTqrDMrTx_28cZZJCcW'}\n",
      "\n",
      "EEIJU71Jo7pJKZWgDnlVdppgRjJsCF2zLmX_OSWgQo2_ True\n",
      "['d'] EEIJU71Jo7pJKZWgDnlVdppgRjJsCF2zLmX_OSWgQo2_\n",
      "----------------------------------------------------------------------------------------\n"
     ]
    }
   ],
   "source": [
    "B64_VALUES = \"ABCDEFGHIJKLMNOPQRSTUVWXYZabcdefghijklmnopqrstuvwxyz0123456789-_\"\n",
    "def int_to_b64(value, length=4):\n",
    "    \"\"\"\n",
    "    Converts an integer to a Base64 string of a specified length using the custom Base64 set.\n",
    "    Pads the front with 'A' if necessary to achieve the desired length.\n",
    "\n",
    "    Parameters:\n",
    "        value (int): The integer to convert.\n",
    "        length (int): The desired length of the Base64 string.\n",
    "\n",
    "    Returns:\n",
    "        str: The Base64 string representation of the integer, padded to the specified length.\n",
    "    \"\"\"\n",
    "    if value < 0 or value >= (1 << (6 * length)):  # Ensure the integer fits in the specified length\n",
    "        raise ValueError(f\"Integer value out of range for {length} Base64 characters\")\n",
    "\n",
    "    # Convert integer to Base64 characters\n",
    "    b64_string = \"\"\n",
    "    for _ in range(length):\n",
    "        b64_string = B64_VALUES[value & 0x3F] + b64_string  # Get last 6 bits and prepend character\n",
    "        value >>= 6  # Shift value right by 6 bits for the next character\n",
    "\n",
    "    # If the resulting string is shorter than the desired length, pad with 'A' at the front\n",
    "    return b64_string.rjust(length, \"A\")\n",
    "\n",
    "\n",
    "from copy import deepcopy\n",
    "root_sad = sads[-1]\n",
    "_root_ked = deepcopy(root_sad.ked)\n",
    "# print('_root_ked')\n",
    "# print(_root_ked)\n",
    "## build various parial dicslosure acdc versions.\n",
    "for this_sad in sads:\n",
    "    \n",
    "    root_ked = deepcopy(_root_ked)\n",
    "    # this_sad = (sad[p])\n",
    "    this_path = this_sad.path\n",
    "    replace_path = this_path[:-1]\n",
    "    this_ked = this_sad.ked\n",
    "    partial_disclosure = simple_decompactify( this_path, sads )\n",
    "    partial_raw = coring.dumps(partial_disclosure)\n",
    "    partial_size = len(partial_raw)\n",
    "    print(partial_size)\n",
    "    size_b64 = int_to_b64(partial_size)\n",
    "    print(f'byte size: {partial_size} \\t\\tsize_b64: {size_b64}')\n",
    "    print(partial_disclosure['v'])\n",
    "    ## update v string:\n",
    "    v_string = partial_disclosure['v'][:-5] + size_b64 + '.'\n",
    "    \n",
    "    print(v_string)\n",
    "    partial_disclosure['v'] = v_string\n",
    "    print('='*88)\n",
    "    pp.pprint(partial_disclosure)\n",
    "    p_saider, p_ked, p_sads = coring.Saider.saidify(partial_disclosure)\n",
    "    print()\n",
    "    print(p_saider.qb64, p_saider.qb64 == root_ked['d'])\n",
    "    for sad in p_sads:\n",
    "        print(sad.path, sad.said)\n",
    "    print('-'*88)\n",
    "    "
   ]
  }
 ],
 "metadata": {
  "kernelspec": {
   "display_name": "Python 3 (ipykernel)",
   "language": "python",
   "name": "python3"
  },
  "language_info": {
   "codemirror_mode": {
    "name": "ipython",
    "version": 3
   },
   "file_extension": ".py",
   "mimetype": "text/x-python",
   "name": "python",
   "nbconvert_exporter": "python",
   "pygments_lexer": "ipython3",
   "version": "3.12.7"
  }
 },
 "nbformat": 4,
 "nbformat_minor": 5
}
